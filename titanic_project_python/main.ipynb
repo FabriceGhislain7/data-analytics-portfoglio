{
  "cells": [
    {
      "cell_type": "markdown",
      "id": "0afca7eb-e39c-46a4-b47f-9e6091bb82e7",
      "metadata": {
        "id": "0afca7eb-e39c-46a4-b47f-9e6091bb82e7"
      },
      "source": [
        "# I. DATA ANALYSIS : TITANIC"
      ]
    },
    {
      "cell_type": "markdown",
      "id": "5edf4f82-0924-4a7d-81c3-a09e0f613071",
      "metadata": {
        "id": "5edf4f82-0924-4a7d-81c3-a09e0f613071"
      },
      "source": [
        "Dataset Description\n",
        "Overview\n",
        "The data has been split into two groups:\n",
        "\n",
        "training set (train.csv)\n",
        "test set (test.csv)\n",
        "The training set should be used to build your machine learning models. For the training set, we provide the outcome (also known as the “ground truth”) for each passenger. Your model will be based on “features” like passengers’ gender and class. You can also use feature engineering to create new features.\n",
        "\n",
        "The test set should be used to see how well your model performs on unseen data. For the test set, we do not provide the ground truth for each passenger. It is your job to predict these outcomes. For each passenger in the test set, use the model you trained to predict whether or not they survived the sinking of the Titanic.\n",
        "\n",
        "We also include gender_submission.csv, a set of predictions that assume all and only female passengers survive, as an example of what a submission file should look like."
      ]
    },
    {
      "cell_type": "markdown",
      "id": "9cea870b-9187-4237-a292-490a9526245f",
      "metadata": {
        "id": "9cea870b-9187-4237-a292-490a9526245f"
      },
      "source": [
        "Variable   Definition\t                                  Key\n",
        "survival   Survival\t                                      0 = No, 1 = Yes\n",
        "pclass\t   Ticket class\t                                  1 = 1st, 2 = 2nd, 3 = 3rd\n",
        "sex\t       Sex\n",
        "Age\t       Age in years\n",
        "sibsp\t   # of siblings / spouses aboard the Titanic\n",
        "parch\t   # of parents / children aboard the Titanic\n",
        "ticket\t  Ticket number\n",
        "fare\t  Passenger fare\n",
        "cabin\t  Cabin number\n",
        "embarked  Port of Embarkation\t                         C = Cherbourg, Q = Queenstown, S = Southampton"
      ]
    },
    {
      "cell_type": "markdown",
      "id": "fe8f310e-539f-454c-b3ee-adc8de015990",
      "metadata": {
        "id": "fe8f310e-539f-454c-b3ee-adc8de015990"
      },
      "source": [
        "Variable Notes\n",
        "\n",
        "pclass: A proxy for socio-economic status (SES)\n",
        "1st = Upper\n",
        "2nd = Middle\n",
        "3rd = Lower\n",
        "\n",
        "age: Age is fractional if less than 1. If the age is estimated, is it in the form of xx.5\n",
        "\n",
        "sibsp: The dataset defines family relations in this way...\n",
        "Sibling = brother, sister, stepbrother, stepsister\n",
        "Spouse = husband, wife (mistresses and fiancés were ignored)\n",
        "\n",
        "parch: The dataset defines family relations in this way...\n",
        "Parent = mother, father\n",
        "Child = daughter, son, stepdaughter, stepson\n",
        "Some children travelled only with a nanny, therefore parch=0 for them."
      ]
    },
    {
      "cell_type": "markdown",
      "id": "bbb7da64-be7b-4053-a22d-8540b5545133",
      "metadata": {
        "id": "bbb7da64-be7b-4053-a22d-8540b5545133"
      },
      "source": [
        "# 1_Loading and Inspecting the Dataset."
      ]
    },
    {
      "cell_type": "code",
      "execution_count": null,
      "id": "b210afa0-6e5f-43d5-9241-72dc3ea8cc7f",
      "metadata": {
        "id": "b210afa0-6e5f-43d5-9241-72dc3ea8cc7f"
      },
      "outputs": [],
      "source": [
        "# Importing necessary libraries\n",
        "import numpy as np                                          # For numerical operations\n",
        "import pandas as pd                                         # For data manipulation and analysis\n",
        "\n",
        "# Setting Pandas display options\n",
        "pd.options.display.max_rows = 20                            # Limit the number of rows displayed in outputs\n",
        "pd.options.display.max_columns = 30                         # Limit the number of columns displayed in outputs\n",
        "pd.set_option('display.float_format', '{:.2f}'.format)      # Format floats with 2 decimal places\n",
        "\n",
        "# Checking versions of libraries\n",
        "print(f\"Pandas version: {pd.__version__}\")                  # Ensure Pandas is up-to-date\n",
        "print(f\"NumPy version: {np.__version__}\")                   # Ensure NumPy is up-to-date\n"
      ]
    },
    {
      "cell_type": "code",
      "execution_count": null,
      "id": "4751934d-6c82-4dea-8b28-15257e5c39c2",
      "metadata": {
        "id": "4751934d-6c82-4dea-8b28-15257e5c39c2"
      },
      "outputs": [],
      "source": [
        "import pandas as pd\n",
        "\n",
        "# Original dataset source: https://www.kaggle.com/competitions/titanic/data?select=train.csv\n",
        "\n",
        "# RAW URL of the modified CSV file on GitHub\n",
        "url = \"https://raw.githubusercontent.com/FabriceGhislain7/data_analyst_scientist/main/titanic_project_python/data_titanic.csv\"\n",
        "\n",
        "# Load the dataset from GitHub\n",
        "data = pd.read_csv(url)\n",
        "\n",
        "# Verify that it is a DataFrame\n",
        "print(f\"Type of 'data': {type(data)}\")\n",
        "\n",
        "# Display the first few rows\n",
        "data.head()\n"
      ]
    },
    {
      "cell_type": "code",
      "execution_count": null,
      "id": "42cace81-7838-47d1-955d-8ffa7320f17f",
      "metadata": {
        "id": "42cace81-7838-47d1-955d-8ffa7320f17f"
      },
      "outputs": [],
      "source": [
        "# Display the last 5 rows of the dataset\n",
        "\n",
        "print(\"Last 5 rows of the dataset:\")\n",
        "# print(data.tail())\n",
        "data.tail()"
      ]
    },
    {
      "cell_type": "code",
      "execution_count": null,
      "id": "5a6b00a4-33bd-4b0a-9642-65cc9a96b57f",
      "metadata": {
        "id": "5a6b00a4-33bd-4b0a-9642-65cc9a96b57f"
      },
      "outputs": [],
      "source": [
        "# Display the entire content of the DataFrame\n",
        "data"
      ]
    },
    {
      "cell_type": "markdown",
      "id": "8db9faee-0d47-4aa5-902b-19ba4f0fb056",
      "metadata": {
        "id": "8db9faee-0d47-4aa5-902b-19ba4f0fb056"
      },
      "source": [
        "# 2_Inspecting the structure of the dataset."
      ]
    },
    {
      "cell_type": "code",
      "execution_count": null,
      "id": "b9e55e6b-7495-4f8b-bbb9-ecc3d15ca601",
      "metadata": {
        "id": "b9e55e6b-7495-4f8b-bbb9-ecc3d15ca601"
      },
      "outputs": [],
      "source": [
        "# Return the size of the data, i.e., number of rows and columns\n",
        "print(f\"The dataset contains {data.shape[0]} rows and {data.shape[1]} columns.\")\n",
        "\n",
        "\n",
        "data.shape"
      ]
    },
    {
      "cell_type": "code",
      "execution_count": null,
      "id": "e9846ac0-f1af-49db-a55c-78cbfaacb260",
      "metadata": {
        "id": "e9846ac0-f1af-49db-a55c-78cbfaacb260"
      },
      "outputs": [],
      "source": [
        "# Enumerate the columns of the dataset (i.e., the labels or headers of each column)\n",
        "\n",
        "print(\"The column labels in the dataset are:\")\n",
        "print(data.columns)"
      ]
    },
    {
      "cell_type": "code",
      "execution_count": null,
      "id": "91934952-e6a6-45db-b8ca-b055d2c710a2",
      "metadata": {
        "id": "91934952-e6a6-45db-b8ca-b055d2c710a2"
      },
      "outputs": [],
      "source": [
        "# Check the data types of each column in the dataset\n",
        "\n",
        "print(\"Data types of each column in the dataset:\")\n",
        "# print(data.dtypes)\n",
        "data.dtypes"
      ]
    },
    {
      "cell_type": "code",
      "execution_count": null,
      "id": "0ec373a6-a636-4185-96ea-5a04be8c6e5f",
      "metadata": {
        "id": "0ec373a6-a636-4185-96ea-5a04be8c6e5f"
      },
      "outputs": [],
      "source": [
        "# Dataset information\n",
        "\n",
        "print(\"Summary of the dataset:\")\n",
        "# print(data.info())\n",
        "data.info()"
      ]
    },
    {
      "cell_type": "code",
      "execution_count": null,
      "id": "a4566d71-25f0-4e96-b924-5d96089654ed",
      "metadata": {
        "id": "a4566d71-25f0-4e96-b924-5d96089654ed"
      },
      "outputs": [],
      "source": [
        "# Identify missing values in the dataset\n",
        "\n",
        "print(\"Missing values in the dataset (True = missing, False = present):\")\n",
        "# print(data.isnull())\n",
        "data.isnull()\n"
      ]
    },
    {
      "cell_type": "code",
      "execution_count": null,
      "id": "1fae8198-20a5-408f-a117-6bcd7a83e4b5",
      "metadata": {
        "id": "1fae8198-20a5-408f-a117-6bcd7a83e4b5"
      },
      "outputs": [],
      "source": [
        "# Count the number of missing values in each column\n",
        "\n",
        "missing_values = data.isnull().sum()\n",
        "print(\"Number of missing values per column:\")\n",
        "# print(missing_values)\n",
        "missing_values\n"
      ]
    },
    {
      "cell_type": "code",
      "execution_count": null,
      "id": "cf9b20cd-f702-4647-8474-19b50cde1e96",
      "metadata": {
        "id": "cf9b20cd-f702-4647-8474-19b50cde1e96"
      },
      "outputs": [],
      "source": [
        "# Check for duplicate rows in the dataset\n",
        "duplicates_rows = data.duplicated()\n",
        "\n",
        "# Count and display the total number of duplicate rows\n",
        "print(f\"Number of duplicate rows: {duplicates_rows.sum()}\")\n",
        "\n",
        "# Display the boolean Series to see which rows are duplicates\n",
        "print(\"Duplicate rows (True = duplicate, False = unique):\")\n",
        "print(data.duplicated())\n",
        "\n",
        "# Directly show the count of duplicate rows for clarity\n",
        "print(f\"Total duplicates: {duplicates_rows.sum()}\")\n"
      ]
    },
    {
      "cell_type": "code",
      "execution_count": null,
      "id": "e9c0107e-6350-405f-ad83-46c1297ec4af",
      "metadata": {
        "id": "e9c0107e-6350-405f-ad83-46c1297ec4af"
      },
      "outputs": [],
      "source": [
        "# Identify columns where all values are missing\n",
        "\n",
        "all_null_columns = data.columns[data.isnull().all()]\n",
        "print(\"Columns with all values missing:\")\n",
        "print(all_null_columns)\n"
      ]
    },
    {
      "cell_type": "code",
      "execution_count": null,
      "id": "77ca48b9-5859-4b2e-885c-d6475d03ae49",
      "metadata": {
        "id": "77ca48b9-5859-4b2e-885c-d6475d03ae49"
      },
      "outputs": [],
      "source": [
        "# Check the memory usage of the dataset\n",
        "print(\"Memory usage of the dataset:\")\n",
        "print(data.memory_usage())"
      ]
    },
    {
      "cell_type": "markdown",
      "id": "080e5006-df11-4a33-b979-1bf1fd2d274c",
      "metadata": {
        "id": "080e5006-df11-4a33-b979-1bf1fd2d274c"
      },
      "source": [
        "# 3_Cleaning the Dataset"
      ]
    },
    {
      "cell_type": "markdown",
      "id": "07fcd7b4-c22b-445f-bdb2-08968553497f",
      "metadata": {
        "id": "07fcd7b4-c22b-445f-bdb2-08968553497f"
      },
      "source": [
        "## 3.1 Identify and Check Problems in the Dataset"
      ]
    },
    {
      "cell_type": "markdown",
      "id": "921a7528-0425-4707-9f6c-845d021db06b",
      "metadata": {
        "id": "921a7528-0425-4707-9f6c-845d021db06b"
      },
      "source": [
        "### 3.1.1. Check for Duplicate Rows"
      ]
    },
    {
      "cell_type": "code",
      "execution_count": null,
      "id": "64427ac7-1574-433d-ac15-d0a63648b437",
      "metadata": {
        "id": "64427ac7-1574-433d-ac15-d0a63648b437"
      },
      "outputs": [],
      "source": [
        "# Identify duplicate rows in the dataset\n",
        "duplicates_rows = data.duplicated()\n",
        "\n",
        "# Count and display the total number of duplicate rows\n",
        "print(f\"Number of duplicate rows: {duplicates_rows.sum()}\")\n",
        "\n",
        "# Check the type and length of duplicates_rows for reference\n",
        "print(f\"Type of duplicates_rows: {type(duplicates_rows)}\")\n",
        "print(f\"Length of duplicates_rows (number of rows): {duplicates_rows.shape[0]}\")\n",
        "\n",
        "# Optional: Preview the first 10 elements of duplicates_rows (True/False for each row)\n",
        "print(\"Preview of duplicates_rows (first 10 rows):\")\n",
        "print(duplicates_rows.head(10))\n",
        "\n",
        "# Get the index of duplicate rows\n",
        "duplicate_indices = duplicates_rows[duplicates_rows].index\n",
        "print(\"Indices of duplicate rows:\")\n",
        "print(duplicate_indices)\n"
      ]
    },
    {
      "cell_type": "code",
      "execution_count": null,
      "id": "a3835e39-a1de-49a4-9f4f-a447f6710338",
      "metadata": {
        "id": "a3835e39-a1de-49a4-9f4f-a447f6710338"
      },
      "outputs": [],
      "source": [
        "# Create a DataFrame containing only duplicate rows for inspection\n",
        "data_duplicates = data[duplicates_rows]\n",
        "\n",
        "# Display the shape of the DataFrame containing duplicates\n",
        "print(f\"Shape of data_duplicates (rows, columns): {data_duplicates.shape}\")\n",
        "\n",
        "# Display the first few duplicate rows for review\n",
        "print(\"First 5 duplicate rows in the dataset:\")\n",
        "print(data_duplicates.head())"
      ]
    },
    {
      "cell_type": "markdown",
      "id": "a80380d5-c59a-4acc-a333-224c3c8ff789",
      "metadata": {
        "id": "a80380d5-c59a-4acc-a333-224c3c8ff789"
      },
      "source": [
        "### 3.1.2 Count Missing Values per Column"
      ]
    },
    {
      "cell_type": "code",
      "execution_count": null,
      "id": "af217483-0510-4e5a-a395-152bf55401ad",
      "metadata": {
        "id": "af217483-0510-4e5a-a395-152bf55401ad"
      },
      "outputs": [],
      "source": [
        "# Identify missing values in each column\n",
        "missing_values = data.isnull()\n",
        "missing_values.head()"
      ]
    },
    {
      "cell_type": "code",
      "execution_count": null,
      "id": "a56553be-37b7-4349-829b-aa4f79f35914",
      "metadata": {
        "id": "a56553be-37b7-4349-829b-aa4f79f35914"
      },
      "outputs": [],
      "source": [
        "# 1. Overview of missing values per column\n",
        "# Count the number of missing values in each column\n",
        "missing_values_by_column = data.isnull().sum()\n",
        "print(f\"Number of missing values per column:\\n{missing_values_by_column}\")\n",
        "\n",
        "# Check the total number of missing values in the dataset\n",
        "print(f\"Total number of missing values in the dataset: {missing_values_by_column.sum()}\")\n"
      ]
    },
    {
      "cell_type": "code",
      "execution_count": null,
      "id": "8a54fcec-9fb3-47fd-bbe8-1f52ea5c7ad8",
      "metadata": {
        "id": "8a54fcec-9fb3-47fd-bbe8-1f52ea5c7ad8"
      },
      "outputs": [],
      "source": [
        "# 2. Create a DataFrame for rows with missing values\n",
        "\n",
        "# Identify rows that have at least one missing value\n",
        "data_with_only_missing_values = data[data.isnull().any(axis=1)]\n",
        "print(f\"Number of rows with at least one missing value: {len(data_with_only_missing_values)}\")\n",
        "\n",
        "# Display the first few rows with missing values\n",
        "print(\"First 5 rows with missing values:\")\n",
        "# print(data_with_only_missing_values.head())\n",
        "data_with_only_missing_values.head()\n"
      ]
    },
    {
      "cell_type": "markdown",
      "id": "40b72c8d-6919-499d-842a-2dc1b227d416",
      "metadata": {
        "id": "40b72c8d-6919-499d-842a-2dc1b227d416"
      },
      "source": [
        "### 3.1.3 Visualize Missing Values."
      ]
    },
    {
      "cell_type": "code",
      "execution_count": null,
      "id": "013b85f6-279a-4b28-b0aa-f7a4411e0be9",
      "metadata": {
        "id": "013b85f6-279a-4b28-b0aa-f7a4411e0be9"
      },
      "outputs": [],
      "source": [
        "# Optional: Calculate the percentage of missing values per column\n",
        "missing_values_percentage = (missing_values_by_column / len(data)) * 100\n",
        "print(\"Percentage of missing values per column:\")\n",
        "print(missing_values_percentage)\n"
      ]
    },
    {
      "cell_type": "code",
      "execution_count": null,
      "id": "7cedf46e-2347-42b1-93ac-a661e973021e",
      "metadata": {
        "id": "7cedf46e-2347-42b1-93ac-a661e973021e"
      },
      "outputs": [],
      "source": [
        "\n",
        "# 3. Detailed visualization of missing values (optional)\n",
        "import matplotlib.pyplot as plt\n",
        "import seaborn as sns\n",
        "\n",
        "# Visualize missing values using a heatmap\n",
        "plt.figure(figsize=(10, 6))\n",
        "sns.heatmap(data.isnull(), cbar=False, cmap=\"viridis\")\n",
        "plt.title(\"Heatmap of Missing Values\")\n",
        "plt.show()\n",
        "\n",
        "# Bar plot of missing values per column\n",
        "missing_values_percentage.plot(kind='bar', figsize=(8, 6))\n",
        "plt.title(\"Percentage of Missing Values per Column\")\n",
        "plt.ylabel(\"Percentage\")\n",
        "plt.xlabel(\"Columns\")\n",
        "plt.show()\n"
      ]
    },
    {
      "cell_type": "markdown",
      "id": "e6049156-f624-4825-846b-fca33a626abc",
      "metadata": {
        "id": "e6049156-f624-4825-846b-fca33a626abc"
      },
      "source": [
        "## 3.2. Clean the Data by Different Methods."
      ]
    },
    {
      "cell_type": "markdown",
      "id": "8a67efb6-1bd2-4aff-b06e-6a1e36091a7f",
      "metadata": {
        "id": "8a67efb6-1bd2-4aff-b06e-6a1e36091a7f"
      },
      "source": [
        "### 3.2.1. Remove Duplicate Rows"
      ]
    },
    {
      "cell_type": "code",
      "execution_count": null,
      "id": "71c541ed-2f27-4aff-bb2e-3240b158aba7",
      "metadata": {
        "id": "71c541ed-2f27-4aff-bb2e-3240b158aba7"
      },
      "outputs": [],
      "source": [
        "# Identify duplicate rows in the dataset. This creates a boolean Series where 'True' indicates a duplicate row\n",
        "data_duplicates = data[data.duplicated()]\n",
        "\n",
        "# Display the number of duplicate rows identified\n",
        "print(f\"Number of duplicate rows identified: {data_duplicates.shape[0]}\")\n",
        "\n",
        "# Show the first few duplicate rows (if any)\n",
        "if not data_duplicates.empty:\n",
        "    print(\"First 5 duplicate rows:\")\n",
        "    print(data_duplicates.head())\n",
        "else:\n",
        "    print(\"No duplicate rows found in the dataset.\")\n"
      ]
    },
    {
      "cell_type": "code",
      "execution_count": null,
      "id": "522340aa-a72b-4e12-9e0b-fe64fef408cd",
      "metadata": {
        "id": "522340aa-a72b-4e12-9e0b-fe64fef408cd"
      },
      "outputs": [],
      "source": [
        "#  Removing duplicate rows\n",
        "# ----------------------------------------\n",
        "# The .drop_duplicates() method removes all duplicate rows, keeping only the first occurrence.\n",
        "data_cleaned1 = data.drop_duplicates()\n",
        "\n",
        "# Count the number of duplicate rows in the original dataset\n",
        "num_duplicates = data.duplicated().sum()\n",
        "\n",
        "# Compare the number of rows before and after removing duplicates\n",
        "print(f\"Number of rows before removing duplicates: {len(data)}\")\n",
        "print(f\"Number of duplicate rows identified: {num_duplicates}\")\n",
        "print(f\"Number of rows after removing duplicates: {len(data_cleaned1)}\")\n"
      ]
    },
    {
      "cell_type": "markdown",
      "id": "93df5810-18ce-46cc-b0d3-dda561ab8d44",
      "metadata": {
        "id": "93df5810-18ce-46cc-b0d3-dda561ab8d44"
      },
      "source": [
        "### 3.2.2. Clean the Data by Removing Rows with missing values"
      ]
    },
    {
      "cell_type": "code",
      "execution_count": null,
      "id": "e190e495-b8ca-4104-b740-06b3594bc461",
      "metadata": {
        "id": "e190e495-b8ca-4104-b740-06b3594bc461"
      },
      "outputs": [],
      "source": [
        "# Define a threshold: If more than 50% of a column's values are missing, drop the column\n",
        "threshold = data.shape[0] / 2  # At least 50% non-null values required\n",
        "\n",
        "# Drop columns where more than 50% of values are missing\n",
        "data_cleaned2 = data.dropna(axis=1, thresh=threshold)\n",
        "\n",
        "# Compare the number of columns before and after removal\n",
        "print(f\"Number of columns before removing missing values: {data.shape[1]}\")\n",
        "print(f\"Number of columns after removing missing values: {data_cleaned2.shape[1]}\")\n",
        "\n",
        "# Display dataset information to verify changes\n",
        "data_cleaned2.info()\n"
      ]
    },
    {
      "cell_type": "code",
      "execution_count": null,
      "id": "84c38108-29b2-4ec2-bbfe-cc9cf2e29d92",
      "metadata": {
        "id": "84c38108-29b2-4ec2-bbfe-cc9cf2e29d92"
      },
      "outputs": [],
      "source": [
        "\n",
        "# Now remove rows where 'Age' is missing\n",
        "data_cleaned3 = data_cleaned2.dropna(subset=['Age', 'Embarked'])\n",
        "\n",
        "# Compare the number of rows before and after removing missing 'Age' values\n",
        "print(f\"Number of rows before removing missing 'Age': {len(data_cleaned2)}\")\n",
        "print(f\"Number of rows after removing missing 'Age': {len(data_cleaned3)}\")\n",
        "data_cleaned3.isnull().sum()"
      ]
    },
    {
      "cell_type": "markdown",
      "id": "b86336e4-9ad6-4956-a802-2469262c7988",
      "metadata": {
        "id": "b86336e4-9ad6-4956-a802-2469262c7988"
      },
      "source": [
        "### 3.2.3. Clean the Data by Replacing Missing Values with the Mean."
      ]
    },
    {
      "cell_type": "code",
      "execution_count": null,
      "id": "bb0da706-c52f-4812-ac0b-9c47d2870fb5",
      "metadata": {
        "id": "bb0da706-c52f-4812-ac0b-9c47d2870fb5"
      },
      "outputs": [],
      "source": [
        "# Create data_cleaned4: Fill missing 'Age' values with its mean\n",
        "data_cleaned4 = data_cleaned2.copy()  # Make a copy to avoid modifying data_cleaned2\n",
        "data_cleaned4['Age'].fillna(data_cleaned4['Age'].mean(), inplace=True)\n",
        "\n",
        "# Compare the number of missing values in 'Age' before and after replacement\n",
        "print(f\"Number of missing values in 'Age' before replacement: {data_cleaned2['Age'].isnull().sum()}\")\n",
        "print(f\"Number of missing values in 'Age' after replacement: {data_cleaned4['Age'].isnull().sum()}\")\n",
        "\n",
        "# Display dataset information to verify changes\n",
        "data_cleaned4.info()"
      ]
    },
    {
      "cell_type": "code",
      "execution_count": null,
      "id": "5e786c03-229e-4b15-989b-4eb1f07bc463",
      "metadata": {
        "id": "5e786c03-229e-4b15-989b-4eb1f07bc463"
      },
      "outputs": [],
      "source": [
        "# In addition to the \"Cabin\" column, we copy \"data_cleaned3\",\n",
        "# remove the \"Ticket\" and \"Embarked\" columns that we do not need for our analysis,\n",
        "# and call our new DataFrame \"df\".\n",
        "df = data_cleaned3.copy()\n",
        "\n",
        "# Drop the \"Ticket\" and \"Embarked\" columns\n",
        "df.drop([\"Ticket\", \"Embarked\"], axis=1, inplace=True)\n",
        "\n",
        "# Display the updated DataFrame\n",
        "df.dtypes"
      ]
    },
    {
      "cell_type": "markdown",
      "id": "447a4bdf-e65b-4ab3-868b-f947b8534e03",
      "metadata": {
        "id": "447a4bdf-e65b-4ab3-868b-f947b8534e03"
      },
      "source": [
        "Proportion of Data Types in the DataFrame"
      ]
    },
    {
      "cell_type": "code",
      "execution_count": null,
      "id": "fdb7959d-ee34-478f-af56-cf39520a60c6",
      "metadata": {
        "id": "fdb7959d-ee34-478f-af56-cf39520a60c6"
      },
      "outputs": [],
      "source": [
        "import matplotlib.pyplot as plt\n",
        "\n",
        "# Count the number of columns by data type\n",
        "data_types = df.dtypes.replace({'int64': 'int', 'float64': 'float', 'object': 'object'}).value_counts()\n",
        "\n",
        "# Define labels and sizes for the pie chart\n",
        "labels = data_types.index\n",
        "sizes = data_types.values\n",
        "\n",
        "# Create the pie chart\n",
        "plt.figure(figsize=(7, 7))\n",
        "plt.pie(sizes, labels=labels, autopct=lambda p: f'{p:.2f}%', startangle=140, colors=[\"skyblue\", \"yellow\", \"lightgreen\"])\n",
        "plt.title(\"Proportion of Data Types in the DataFrame\")\n",
        "plt.legend()\n",
        "plt.show()\n"
      ]
    },
    {
      "cell_type": "markdown",
      "id": "7732ce75-6b05-42f9-9613-8f3b48d92067",
      "metadata": {
        "id": "7732ce75-6b05-42f9-9613-8f3b48d92067"
      },
      "source": [
        "# 4_Statistical description of the DataFrame"
      ]
    },
    {
      "cell_type": "markdown",
      "id": "b1ac18d6-90da-46d4-b31d-b306ee1c7766",
      "metadata": {
        "id": "b1ac18d6-90da-46d4-b31d-b306ee1c7766"
      },
      "source": [
        "## 4.1. Descriptive Statistics of the Entire DataFrame and Grouped Data"
      ]
    },
    {
      "cell_type": "markdown",
      "id": "37b1079f-0fbe-44ff-a05c-23cbde0341d2",
      "metadata": {
        "id": "37b1079f-0fbe-44ff-a05c-23cbde0341d2"
      },
      "source": [
        "Understanding iloc (Integer Location-Based Indexing)"
      ]
    },
    {
      "cell_type": "code",
      "execution_count": null,
      "id": "ebca5586-586c-4ab9-8c66-970c6305f504",
      "metadata": {
        "id": "ebca5586-586c-4ab9-8c66-970c6305f504"
      },
      "outputs": [],
      "source": [
        "# Select the first row (without specifying columns)\n",
        "print(\"Select the first row (without specifying columns)\")\n",
        "print(df.iloc[0])\n",
        "print()\n",
        "\n",
        "# Select the first row (index 0) and all columns using `:`\n",
        "print(\"Select the first row (index 0) and all columns using `:\")\n",
        "print(df.iloc[0, :])\n",
        "print()\n",
        "\n",
        "# Select the first two rows (index 0 to 1, excluding index 2)\n",
        "print(\"Select the first two rows (index 0 to 1, excluding index 2):\")\n",
        "print(df.iloc[0:2])\n",
        "print()\n",
        "\n",
        "# Select all rows and only the last column, displaying the first 8 rows\n",
        "print(\"Select all rows and only the last column, displaying the first 8 rows\")\n",
        "df.iloc[:, -1].head(8)\n"
      ]
    },
    {
      "cell_type": "markdown",
      "id": "923a8656-eeb1-4a71-8885-ba8b4916ca45",
      "metadata": {
        "id": "923a8656-eeb1-4a71-8885-ba8b4916ca45"
      },
      "source": [
        "Understanding loc (Label-Based Indexing)"
      ]
    },
    {
      "cell_type": "code",
      "execution_count": null,
      "id": "d43255b6-bae1-4fe4-aaaf-45bc76719efc",
      "metadata": {
        "id": "d43255b6-bae1-4fe4-aaaf-45bc76719efc"
      },
      "outputs": [],
      "source": [
        "# Select the first row from the \"Name\" column\n",
        "print(' Select the first row from the \"Name\" column')\n",
        "print(df.loc[0, \"Name\"])\n",
        "print()\n",
        "\n",
        "# Select all rows from the \"Name\" column\n",
        "print('Select all rows from the \"Name\" column')\n",
        "df.loc[:, \"Name\"].head()\n"
      ]
    },
    {
      "cell_type": "markdown",
      "id": "6e7d3bc3-1faa-43c4-8a10-32f10764a93c",
      "metadata": {
        "id": "6e7d3bc3-1faa-43c4-8a10-32f10764a93c"
      },
      "source": [
        "### 4.1.1. Overall Descriptive Statistics of the Dataset."
      ]
    },
    {
      "cell_type": "code",
      "execution_count": null,
      "id": "8be6d778-cc20-4968-a85e-1670e7c8436e",
      "metadata": {
        "id": "8be6d778-cc20-4968-a85e-1670e7c8436e"
      },
      "outputs": [],
      "source": [
        "# Get unique values only for categorical (object) columns, excluding \"Name\"\n",
        "unique_values_object = {\n",
        "    col: df[col].unique() for col in df.select_dtypes(include=['object']).columns if col != \"Name\"\n",
        "}\n",
        "\n",
        "# Display the unique values for each categorical column\n",
        "for col, values in unique_values_object.items():\n",
        "    print(f\" Unique values in '{col}':\\n{values}\\n\")\n"
      ]
    },
    {
      "cell_type": "code",
      "execution_count": null,
      "id": "b2c3ba0d-6e7f-4986-80fb-deec62c42bec",
      "metadata": {
        "id": "b2c3ba0d-6e7f-4986-80fb-deec62c42bec"
      },
      "outputs": [],
      "source": [
        "# Statistical characteristics of all variables in the dataset, regardless of type\n",
        "df.describe(include=\"all\")\n",
        "# df.describe(percentiles=[],include = 'all' )\n"
      ]
    },
    {
      "cell_type": "code",
      "execution_count": null,
      "id": "9be941c0-e944-47cd-bfc4-5f606628efd9",
      "metadata": {
        "id": "9be941c0-e944-47cd-bfc4-5f606628efd9"
      },
      "outputs": [],
      "source": [
        "# If I only want a statistical description of the numerical variables,\n",
        "df.describe()\n"
      ]
    },
    {
      "cell_type": "code",
      "execution_count": null,
      "id": "0027928c-51f4-4dd7-a994-1902b8b583a1",
      "metadata": {
        "id": "0027928c-51f4-4dd7-a994-1902b8b583a1"
      },
      "outputs": [],
      "source": [
        "# I can decide to specify percentiles.\n",
        "df.describe(percentiles=[0.25, 0.5, 0.75], include='all')\n"
      ]
    },
    {
      "cell_type": "code",
      "execution_count": null,
      "id": "0121b681-3fa9-422a-912a-6f5ebaf32ffd",
      "metadata": {
        "id": "0121b681-3fa9-422a-912a-6f5ebaf32ffd"
      },
      "outputs": [],
      "source": [
        "# We can specify the percentiles we are interested in.\n",
        "df.describe(percentiles=[0.20, 0.40, 0.60, 0.80])\n"
      ]
    },
    {
      "cell_type": "code",
      "execution_count": null,
      "id": "133989a7-98b8-4e7a-a576-d234f1b3dbe6",
      "metadata": {
        "id": "133989a7-98b8-4e7a-a576-d234f1b3dbe6"
      },
      "outputs": [],
      "source": [
        "# You can generate df statistics without including a particular category.\n",
        "df.describe(exclude=[\"object\"])\n"
      ]
    },
    {
      "cell_type": "code",
      "execution_count": null,
      "id": "f6fbc57c-248b-43ef-acd1-8a9eba05bf81",
      "metadata": {
        "id": "f6fbc57c-248b-43ef-acd1-8a9eba05bf81"
      },
      "outputs": [],
      "source": [
        "# Here, we have removed the numerical variables (‘int’ and ‘float’), keeping only categorical variables (‘object’).\n",
        "# As a result, the statistical summary will only include categorical columns.\n",
        "# Since the remaining variables are non-numeric, percentiles are not displayed in the output.\n",
        "\n",
        "df.describe(exclude=['int', 'float'])\n",
        "\n",
        "# If we try to add the `percentiles` parameter to the previous code, we get an error.\n",
        "# This happens because there are no numerical variables left to calculate percentiles.\n",
        "\n",
        "# df.describe(exclude=['int', 'float'], percentiles=[0.20, 0.40, 0.60])  # This code will result in an error.\n",
        "\n",
        "# Alternative: If you need a summary of both categorical and numerical variables, use:\n",
        "# df.describe(include='all')\n"
      ]
    },
    {
      "cell_type": "code",
      "execution_count": null,
      "id": "69c1df3a-64be-43ff-a804-f14636e7438b",
      "metadata": {
        "id": "69c1df3a-64be-43ff-a804-f14636e7438b"
      },
      "outputs": [],
      "source": [
        "# You can also include only the columns that interest us.\n",
        "# In this case, we will include both categorical and numerical variables.\n",
        "\n",
        "df[['Name', 'Sex', 'Age', 'Survived']].describe()\n",
        "\n",
        "# If we want to see a statistical summary including both numerical and categorical columns, we use:\n",
        "# df[['Name', 'Sex', 'Age', 'Survived']].describe(include='all')\n"
      ]
    },
    {
      "cell_type": "markdown",
      "id": "9e5c58f4-94d3-4d16-9ed7-6a210e840b33",
      "metadata": {
        "id": "9e5c58f4-94d3-4d16-9ed7-6a210e840b33"
      },
      "source": [
        "Visualize numerical variables (histograms, boxplots)"
      ]
    },
    {
      "cell_type": "code",
      "execution_count": null,
      "id": "385ee727-a0de-4191-8a15-30ad0f9c470a",
      "metadata": {
        "id": "385ee727-a0de-4191-8a15-30ad0f9c470a"
      },
      "outputs": [],
      "source": [
        "import matplotlib.pyplot as plt\n",
        "import seaborn as sns\n",
        "\n",
        "# Plot histograms for all numerical variables\n",
        "dfn = df.select_dtypes(include=[\"int64\", \"float64\"])  # Select only numerical columns\n",
        "\n",
        "plt.figure(figsize=(12, 6))\n",
        "dfn.hist(bins=20, figsize=(12, 8), color='skyblue', edgecolor='black')\n",
        "plt.suptitle(\"Histograms of Numerical Variables\", fontsize=14)\n",
        "plt.show()\n"
      ]
    },
    {
      "cell_type": "markdown",
      "id": "843e7e84-97af-4615-9d18-c0f217d053db",
      "metadata": {
        "id": "843e7e84-97af-4615-9d18-c0f217d053db"
      },
      "source": [
        "Observations"
      ]
    },
    {
      "cell_type": "markdown",
      "id": "bd81efaa-ffc5-47ab-9006-877e9bb3fd03",
      "metadata": {
        "id": "bd81efaa-ffc5-47ab-9006-877e9bb3fd03"
      },
      "source": [
        "- Before generating the boxplot, \"PassengerId\" was removed because it is a unique identifier and does not contribute to statistical analysis.  \n",
        "- Keeping \"PassengerId\" distorts the boxplot, as its large numerical values compress the scale of other variables, making their distributions harder to interpret.  \n",
        "- Boxplots are meant for meaningful numerical variables like \"Age\", \"Fare\", \"SibSp\", and \"Parch\", which have statistical significance.  \n",
        "- Removing unnecessary variables (such as \"PassengerId\", \"Ticket\", or \"Name\") improves the clarity and accuracy of visualizations.  \n"
      ]
    },
    {
      "cell_type": "code",
      "execution_count": null,
      "id": "d4a17744-800a-4222-b65c-7c10af6e2eb3",
      "metadata": {
        "id": "d4a17744-800a-4222-b65c-7c10af6e2eb3"
      },
      "outputs": [],
      "source": [
        "# Create a new DataFrame without \"PassengerId\"\n",
        "dfn_new = dfn.drop([\"PassengerId\"], axis=1, inplace=False)\n",
        "\n",
        "# Check the structure of the modified DataFrame\n",
        "dfn_new.info()\n"
      ]
    },
    {
      "cell_type": "code",
      "execution_count": null,
      "id": "145a55ec-7ffa-406f-8660-52ae1c451725",
      "metadata": {
        "id": "145a55ec-7ffa-406f-8660-52ae1c451725"
      },
      "outputs": [],
      "source": [
        "\n",
        "# Plot boxplots for numerical variables\n",
        "plt.figure(figsize=(10, 6))\n",
        "sns.boxplot(data=dfn_new, palette=\"Set2\")\n",
        "plt.title(\"Boxplot of Numerical Variables\")\n",
        "plt.xticks(rotation=45)\n",
        "plt.show()\n"
      ]
    },
    {
      "cell_type": "markdown",
      "id": "aed075fa-55d3-4cf5-b573-42cc2dfe7dfb",
      "metadata": {
        "id": "aed075fa-55d3-4cf5-b573-42cc2dfe7dfb"
      },
      "source": [
        "Detecting & Handling Outliers in the Entire DataFrame"
      ]
    },
    {
      "cell_type": "code",
      "execution_count": null,
      "id": "4ab6535c-412c-4e74-8ff2-f66b22ec910f",
      "metadata": {
        "id": "4ab6535c-412c-4e74-8ff2-f66b22ec910f"
      },
      "outputs": [],
      "source": [
        "import numpy as np\n",
        "import pandas as pd\n",
        "\n",
        "def detect_and_handle_outliers(df, method=\"IQR\", replace_with=\"mean\", lower_q=0.25, upper_q=0.75, column=\"all\"):\n",
        "    \"\"\"\n",
        "    Detects and either removes or replaces outliers in a DataFrame using the IQR method.\n",
        "\n",
        "    Parameters:\n",
        "    - df (DataFrame): The input DataFrame.\n",
        "    - method (str): The method used to handle outliers. Options: \"IQR\" (Interquartile Range).\n",
        "    - replace_with (str): The method to replace outliers. Options: \"remove\", \"mean\", \"median\", or \"mode\".\n",
        "    - lower_q (float): Lower quantile threshold (default 0.25).\n",
        "    - upper_q (float): Upper quantile threshold (default 0.75).\n",
        "    - column (str): Column to process. If \"all\", applies to all numerical columns.\n",
        "\n",
        "    Returns:\n",
        "    - df_outliers (DataFrame): A DataFrame containing only the detected outliers.\n",
        "    - df_cleaned (DataFrame): A DataFrame after outlier removal or replacement.\n",
        "    \"\"\"\n",
        "\n",
        "    df_outliers = pd.DataFrame()  # Initialize empty DataFrame\n",
        "    df_cleaned = df.copy()  # Copy of the original DataFrame\n",
        "\n",
        "    # Determine which columns to process\n",
        "    if column == \"all\":\n",
        "        cols_to_process = df.select_dtypes(include=[\"int64\", \"float64\"]).columns\n",
        "    else:\n",
        "        if column in df.columns and df[column].dtype in [\"int64\", \"float64\"]:\n",
        "            cols_to_process = [column]\n",
        "        else:\n",
        "            raise ValueError(f\"Column '{column}' is not numerical or does not exist in the DataFrame.\")\n",
        "\n",
        "    # Loop through selected numerical columns\n",
        "    for col in cols_to_process:\n",
        "        Q1 = df[col].quantile(lower_q)\n",
        "        Q3 = df[col].quantile(upper_q)\n",
        "        IQR = Q3 - Q1\n",
        "\n",
        "        lower_bound = Q1 - 1.5 * IQR\n",
        "        upper_bound = Q3 + 1.5 * IQR\n",
        "\n",
        "        # Detect outliers\n",
        "        outliers = df[(df[col] < lower_bound) | (df[col] > upper_bound)]\n",
        "\n",
        "        # Fix: Only concatenate if outliers exist\n",
        "        if not outliers.empty:\n",
        "            df_outliers = pd.concat([df_outliers, outliers])\n",
        "\n",
        "        if method == \"IQR\":\n",
        "            if replace_with == \"remove\":\n",
        "                # Remove outliers\n",
        "                df_cleaned = df_cleaned[(df_cleaned[col] >= lower_bound) & (df_cleaned[col] <= upper_bound)]\n",
        "            elif replace_with == \"mean\":\n",
        "                # Replace outliers with the mean\n",
        "                mean_value = df_cleaned[(df_cleaned[col] >= lower_bound) & (df_cleaned[col] <= upper_bound)][col].mean()\n",
        "                df_cleaned.loc[(df_cleaned[col] < lower_bound) | (df_cleaned[col] > upper_bound), col] = mean_value\n",
        "            elif replace_with == \"median\":\n",
        "                # Replace outliers with the median\n",
        "                median_value = df_cleaned[(df_cleaned[col] >= lower_bound) & (df_cleaned[col] <= upper_bound)][col].median()\n",
        "                df_cleaned.loc[(df_cleaned[col] < lower_bound) | (df_cleaned[col] > upper_bound), col] = median_value\n",
        "            elif replace_with == \"mode\":\n",
        "                # Replace outliers with the mode\n",
        "                mode_value = df_cleaned[col].mode()[0]\n",
        "                df_cleaned.loc[(df_cleaned[col] < lower_bound) | (df_cleaned[col] > upper_bound), col] = mode_value\n",
        "\n",
        "    return df_outliers, df_cleaned\n",
        "\n",
        "# Detect and remove outliers for all numerical columns\n",
        "dfn_outliers_removed, dfn_cleaned_removed = detect_and_handle_outliers(dfn_new, method=\"IQR\", replace_with=\"remove\")\n",
        "print(dfn_cleaned_removed.info())\n",
        "print()\n",
        "\n",
        "# Detect and replace outliers with the mean for all numerical columns\n",
        "dfn_outliers_replaced, dfn_cleaned_replaced = detect_and_handle_outliers(dfn_new, method=\"IQR\", replace_with=\"mean\")\n",
        "print(dfn_cleaned_replaced.info())"
      ]
    },
    {
      "cell_type": "code",
      "execution_count": null,
      "id": "5312da9b-008e-4d47-b43a-5b7707debb50",
      "metadata": {
        "id": "5312da9b-008e-4d47-b43a-5b7707debb50"
      },
      "outputs": [],
      "source": [
        "\n",
        "# Plot boxplots for numerical variables\n",
        "plt.figure(figsize=(10, 6))\n",
        "sns.boxplot(data = dfn_cleaned_removed, palette=\"Set2\")\n",
        "plt.title(\"Boxplot of Numerical Variables\")\n",
        "plt.xticks(rotation=45)\n",
        "plt.show()\n"
      ]
    },
    {
      "cell_type": "code",
      "execution_count": null,
      "id": "d636e716-2f98-4ae7-84e0-8eed7e3b14b4",
      "metadata": {
        "id": "d636e716-2f98-4ae7-84e0-8eed7e3b14b4"
      },
      "outputs": [],
      "source": [
        "# Plot boxplots for numerical variables\n",
        "plt.figure(figsize=(10, 6))\n",
        "sns.boxplot(data = dfn_cleaned_replaced, palette=\"Set2\")\n",
        "plt.title(\"Boxplot of Numerical Variables\")\n",
        "plt.xticks(rotation=45)\n",
        "plt.show()\n"
      ]
    },
    {
      "cell_type": "markdown",
      "id": "dcae9757-831b-49db-821c-440f50d9fbf1",
      "metadata": {
        "id": "dcae9757-831b-49db-821c-440f50d9fbf1"
      },
      "source": [
        "Observations :"
      ]
    },
    {
      "cell_type": "markdown",
      "id": "3e1a6718-d425-493e-bd7e-9f2852471a5a",
      "metadata": {
        "id": "3e1a6718-d425-493e-bd7e-9f2852471a5a"
      },
      "source": [
        "- Applying the general outlier-handling function across the dataset improves the boxplot representation by reducing extreme deviations.  \n",
        "- Some outliers are still present, indicating that the IQR method alone may not fully eliminate extreme values in all cases.  \n",
        "- The replacement method (mean, median, or mode) provides a better boxplot representation compared to removal, as it preserves the number of observations while smoothing extreme values.  \n",
        "- The removal method, while effective in eliminating outliers, reduces the dataset size, which may lead to a loss of valuable information and affect overall data distribution.  \n",
        "- Using replacement instead of removal keeps the data more balanced, preventing excessive gaps in visualization and allowing for a more interpretable boxplot.  \n"
      ]
    },
    {
      "cell_type": "markdown",
      "id": "f28c310f-1c3e-4124-b954-489168b68475",
      "metadata": {
        "id": "f28c310f-1c3e-4124-b954-489168b68475"
      },
      "source": [
        "### 4.1.2. Correlation Matrix and Relationship Between Variables."
      ]
    },
    {
      "cell_type": "markdown",
      "id": "69afe642-3c3f-4408-bdf4-cc523afba27d",
      "metadata": {
        "id": "69afe642-3c3f-4408-bdf4-cc523afba27d"
      },
      "source": [
        "We generate a heatmap for displaying the correlation matrix."
      ]
    },
    {
      "cell_type": "markdown",
      "id": "0dcc040c-9527-49b9-854b-9e32bfdc6e03",
      "metadata": {
        "id": "0dcc040c-9527-49b9-854b-9e32bfdc6e03"
      },
      "source": [
        "Spearman correlation (monotonic relationships)"
      ]
    },
    {
      "cell_type": "code",
      "execution_count": null,
      "id": "ea5c2382-d3d5-4d9a-8b72-640deeba9dec",
      "metadata": {
        "id": "ea5c2382-d3d5-4d9a-8b72-640deeba9dec"
      },
      "outputs": [],
      "source": [
        "# Select only numerical variables\n",
        "dfn = df.select_dtypes(include=\"number\")\n",
        "\n",
        "# Compute the Spearman correlation matrix\n",
        "corr_spearman = dfn.corr(method=\"spearman\")\n",
        "\n",
        "# Display the Spearman correlation matrix\n",
        "print(\"\\n Spearman Correlation Matrix:\")\n",
        "print(corr_spearman)\n"
      ]
    },
    {
      "cell_type": "code",
      "execution_count": null,
      "id": "e3472783-05e5-4b85-b3e8-3911b91e7b78",
      "metadata": {
        "id": "e3472783-05e5-4b85-b3e8-3911b91e7b78"
      },
      "outputs": [],
      "source": [
        "import seaborn as sns\n",
        "import matplotlib.pyplot as plt\n",
        "\n",
        "# Select only numerical variables\n",
        "dfn = df.select_dtypes(include=\"number\")\n",
        "\n",
        "# Compute the Spearman correlation matrix\n",
        "corr_spearman = dfn.corr(method=\"spearman\")\n",
        "\n",
        "# Create a heatmap to visualize the Spearman correlation matrix\n",
        "plt.figure(figsize=(8, 6))\n",
        "sns.heatmap(corr_spearman, annot=False, cmap=\"coolwarm\", fmt=\".2f\", linewidths=0.5)\n",
        "plt.title(\"Spearman Correlation Heatmap\")\n",
        "plt.show()\n"
      ]
    },
    {
      "cell_type": "markdown",
      "id": "09144d32-612e-4549-922a-dcd2a93b137d",
      "metadata": {
        "id": "09144d32-612e-4549-922a-dcd2a93b137d"
      },
      "source": [
        "## 4.2. Univariate and Bivariate Analysis"
      ]
    },
    {
      "cell_type": "markdown",
      "id": "9cfbe5a9-cf5b-4f83-a0cb-67dd00a08068",
      "metadata": {
        "id": "9cfbe5a9-cf5b-4f83-a0cb-67dd00a08068"
      },
      "source": [
        "### 4.2.1. Univariate Analysis (Exploring Single Variables)  (Numerical_variable_choice = \"Age\")"
      ]
    },
    {
      "cell_type": "code",
      "execution_count": null,
      "id": "64346df2-d195-4ff1-8807-dbaebfc6ed80",
      "metadata": {
        "scrolled": true,
        "id": "64346df2-d195-4ff1-8807-dbaebfc6ed80"
      },
      "outputs": [],
      "source": [
        "print(df[\"Age\"])                           # This is how to access a column\n",
        "# dfn.Age.head()                            # You can also write it like this (5 first rows)"
      ]
    },
    {
      "cell_type": "code",
      "execution_count": null,
      "id": "b09189a4-d1a3-483a-9042-93c62c32f273",
      "metadata": {
        "id": "b09189a4-d1a3-483a-9042-93c62c32f273"
      },
      "outputs": [],
      "source": [
        "# Accessing the first three values of the 'Age' column\n",
        "\n",
        "print(df[\"Age\"][0:3])  # Displays the first three values in the 'Age' column\n",
        "# df.Age[0:3]  # Alternative way to write it\n",
        "\n"
      ]
    },
    {
      "cell_type": "code",
      "execution_count": null,
      "id": "b2b96415-c493-4d61-8850-359a7f53f477",
      "metadata": {
        "id": "b2b96415-c493-4d61-8850-359a7f53f477"
      },
      "outputs": [],
      "source": [
        "# Sort the values of the 'Age' column in ascending order\n",
        "sorted_ages = df[\"Age\"].sort_values()\n",
        "\n",
        "# Display the 5 sorted values (without modifying the original DataFrame)\n",
        "print(sorted_ages.head())\n"
      ]
    },
    {
      "cell_type": "code",
      "execution_count": null,
      "id": "b0a73010-04e1-493d-ba8a-c39ae003ed35",
      "metadata": {
        "id": "b0a73010-04e1-493d-ba8a-c39ae003ed35"
      },
      "outputs": [],
      "source": [
        "# Sort the 5 values of a variable in a ascending manner in a column.\n",
        "\n",
        "df.sort_values(by=\"Age\", ascending =True).head()\n"
      ]
    },
    {
      "cell_type": "code",
      "execution_count": null,
      "id": "f3148ba6-2edb-4392-bdd7-6ddc745253bd",
      "metadata": {
        "id": "f3148ba6-2edb-4392-bdd7-6ddc745253bd"
      },
      "outputs": [],
      "source": [
        "# Sort the 5 values of a variable in a descending manner in a column.\n",
        "\n",
        "df.sort_values(by=\"Age\", ascending = False).head()\n"
      ]
    },
    {
      "cell_type": "code",
      "execution_count": null,
      "id": "4a2807da-9240-49c6-85ab-a91a3ea149ee",
      "metadata": {
        "id": "4a2807da-9240-49c6-85ab-a91a3ea149ee"
      },
      "outputs": [],
      "source": [
        "# We can obtain the indices of the values found between our variables\n",
        "\n",
        "print(df[\"Age\"].argsort().head())\n"
      ]
    },
    {
      "cell_type": "code",
      "execution_count": null,
      "id": "d3710a2b-3391-436c-8f82-36900f827869",
      "metadata": {
        "id": "d3710a2b-3391-436c-8f82-36900f827869"
      },
      "outputs": [],
      "source": [
        "# calculate the average explicitly. There are two ways we can use\n",
        "print(df[\"Age\"].mean())\n",
        "# df.Age.mean()"
      ]
    },
    {
      "cell_type": "code",
      "execution_count": null,
      "id": "edd9062f-1073-4c00-a0c8-ee95bda8c7bb",
      "metadata": {
        "id": "edd9062f-1073-4c00-a0c8-ee95bda8c7bb"
      },
      "outputs": [],
      "source": [
        "# Allows us to count for each individual value in the Series\n",
        "\n",
        "df['Age'].value_counts()\n",
        "# df.Age.value_counts()"
      ]
    },
    {
      "cell_type": "code",
      "execution_count": null,
      "id": "90ec118b-9ae3-4d4f-ad2e-aa7e615d039c",
      "metadata": {
        "id": "90ec118b-9ae3-4d4f-ad2e-aa7e615d039c"
      },
      "outputs": [],
      "source": [
        "# Calculate the mode of the 'Age' column\n",
        "print(df[\"Age\"].mode())\n",
        "\n",
        "# Alternative way\n",
        "# df.Age.mode()\n"
      ]
    },
    {
      "cell_type": "code",
      "execution_count": null,
      "id": "f5de987d-b800-4234-abfa-479a82c02e6b",
      "metadata": {
        "id": "f5de987d-b800-4234-abfa-479a82c02e6b"
      },
      "outputs": [],
      "source": [
        "# Calculate the median of 'Age'\n",
        "print(df[\"Age\"].median())\n",
        "\n",
        "# Alternative way\n",
        "df.Age.median()\n"
      ]
    },
    {
      "cell_type": "code",
      "execution_count": null,
      "id": "f0df5c80-389a-44fa-b985-732a94f6afa6",
      "metadata": {
        "id": "f0df5c80-389a-44fa-b985-732a94f6afa6"
      },
      "outputs": [],
      "source": [
        "# Calculate variance of 'Age'\n",
        "print(df[\"Age\"].var())\n",
        "\n",
        "# Alternative way\n",
        "# df.Age.var()\n"
      ]
    },
    {
      "cell_type": "code",
      "execution_count": null,
      "id": "3d44705b-69ba-45d2-b928-929eb32eea7d",
      "metadata": {
        "id": "3d44705b-69ba-45d2-b928-929eb32eea7d"
      },
      "outputs": [],
      "source": [
        "# Calculate standard deviation of 'Age'\n",
        "print(df[\"Age\"].std())\n",
        "\n",
        "# Alternative way\n",
        "df.Age.std()\n"
      ]
    },
    {
      "cell_type": "code",
      "execution_count": null,
      "id": "ae8fa36c-ce03-4667-9437-ecbb56e7dd11",
      "metadata": {
        "id": "ae8fa36c-ce03-4667-9437-ecbb56e7dd11"
      },
      "outputs": [],
      "source": [
        "# Generate descriptive statistics for the 'Age' column\n",
        "age_description = df[\"Age\"].describe(percentiles = [0.2])\n",
        "\n",
        "# Display the statistics\n",
        "print(\"Descriptive Statistics for 'Age':\")\n",
        "print(age_description)\n"
      ]
    },
    {
      "cell_type": "code",
      "execution_count": null,
      "id": "f83aa4c9-f0f0-454f-b924-fbf72e2ffc66",
      "metadata": {
        "id": "f83aa4c9-f0f0-454f-b924-fbf72e2ffc66"
      },
      "outputs": [],
      "source": [
        "import matplotlib.pyplot as plt\n",
        "import seaborn as sns\n",
        "\n",
        "# Histogram with multiple options\n",
        "plt.figure(figsize=(12, 5))\n",
        "\n",
        "plt.subplot(1, 2, 1)\n",
        "sns.histplot(df, x=\"Age\", bins=20, kde=True, element=\"step\", multiple=\"stack\", fill=False)\n",
        "\n",
        "# Formatting\n",
        "plt.title(\"Age Distribution \", fontsize=14)\n",
        "plt.xlabel(\"Age\")\n",
        "plt.ylabel(\"Count\")\n",
        "plt.xticks(rotation=45)\n",
        "\n",
        "# Histogram with multiple options\n",
        "plt.subplot(1, 2, 2)\n",
        "sns.histplot(df, x=\"Age\", hue=\"Sex\", bins=20, kde=True, element=\"step\", multiple=\"stack\", fill=True)\n",
        "\n",
        "# Formatting\n",
        "plt.title(\"Age Distribution by Sex\", fontsize=14)\n",
        "plt.xlabel(\"Age\")\n",
        "plt.ylabel(\"Count\")\n",
        "plt.xticks(rotation=45)\n",
        "plt.show()\n",
        "\n",
        "plt.show()\n"
      ]
    },
    {
      "cell_type": "code",
      "execution_count": null,
      "id": "e576651c-6880-4990-a253-136decdd1025",
      "metadata": {
        "id": "e576651c-6880-4990-a253-136decdd1025"
      },
      "outputs": [],
      "source": [
        "import matplotlib.pyplot as plt\n",
        "import seaborn as sns\n",
        "\n",
        "# Create a figure with two subplots (1 row, 2 columns)\n",
        "fig, axes = plt.subplots(1, 2, figsize=(12, 5))\n",
        "\n",
        "# 1 KDE Plot for 'Age'\n",
        "sns.kdeplot(df[\"Age\"], color=\"green\", fill=True, ax=axes[0])\n",
        "axes[0].set_title(\"KDE of the Variable 'Age'\", fontsize=14)\n",
        "axes[0].set_xlabel(\"Age\")\n",
        "axes[0].set_ylabel(\"Density\")\n",
        "axes[0].tick_params(axis='x', rotation=45)\n",
        "\n",
        "# 2 Boxplot for 'Age'\n",
        "sns.boxplot(y=df[\"Age\"], palette=\"Set2\", ax=axes[1])\n",
        "axes[1].set_title('Boxplot of the Numerical Variable \"Age\"', fontsize=14)\n",
        "axes[1].set_ylabel(\"Age\")\n",
        "\n",
        "# Adjust layout and display the plots\n",
        "plt.tight_layout()\n",
        "plt.show()\n"
      ]
    },
    {
      "cell_type": "markdown",
      "id": "793b928d-a089-4cbe-91af-29180f5fbbe8",
      "metadata": {
        "id": "793b928d-a089-4cbe-91af-29180f5fbbe8"
      },
      "source": [
        "Detecting Outliers with a Boxplot"
      ]
    },
    {
      "cell_type": "markdown",
      "id": "0b1c461e-4748-42d8-8388-db4844d4ab20",
      "metadata": {
        "id": "0b1c461e-4748-42d8-8388-db4844d4ab20"
      },
      "source": [
        "Detecting Outliers with the IQR (Interquartile Range) Method"
      ]
    },
    {
      "cell_type": "code",
      "execution_count": null,
      "id": "81483f34-e191-4162-9521-59804a22cdcd",
      "metadata": {
        "id": "81483f34-e191-4162-9521-59804a22cdcd"
      },
      "outputs": [],
      "source": [
        "import numpy as np\n",
        "\n",
        "# Calculate the quartiles\n",
        "Q1 = df[\"Age\"].quantile(0.25)  # 1st quartile (25%)\n",
        "Q3 = df[\"Age\"].quantile(0.75)  # 3rd quartile (75%)\n",
        "\n",
        "# Calculate the IQR\n",
        "IQR = Q3 - Q1\n",
        "\n",
        "# Define the lower and upper bounds\n",
        "lower_bound_age = Q1 - 1.5 * IQR\n",
        "upper_bound_age = Q3 + 1.5 * IQR\n",
        "\n",
        "print(f\"Lower bound: {lower_bound_age}\")\n",
        "print(f\"Upper bound: {upper_bound_age}\")\n",
        "\n",
        "# Identify outliers on the variable \"Age\"\n",
        "outliers_age = df[(df[\"Age\"] < lower_bound_age) | (df[\"Age\"] > upper_bound_age)]\n",
        "print('Detected Outliers on the \"Age\" avriable:')\n",
        "print(outliers_age)"
      ]
    },
    {
      "cell_type": "markdown",
      "id": "074dc64a-389a-4a9b-8edd-ad9b7891240c",
      "metadata": {
        "id": "074dc64a-389a-4a9b-8edd-ad9b7891240c"
      },
      "source": [
        " Manage outliers of the variable \"Age\" by removing them from the dataset"
      ]
    },
    {
      "cell_type": "code",
      "execution_count": null,
      "id": "56e97973-4eec-42a7-a29a-d04ad3fef2c0",
      "metadata": {
        "id": "56e97973-4eec-42a7-a29a-d04ad3fef2c0"
      },
      "outputs": [],
      "source": [
        "# Option: Remove outliers of the variable \"Age\" from the dataset\n",
        "df_cleaned_remove_age = df[(df[\"Age\"] >= lower_bound_age) & (df[\"Age\"] <= upper_bound_age)]\n",
        "print(df_cleaned_remove_age.head())"
      ]
    },
    {
      "cell_type": "code",
      "execution_count": null,
      "id": "93e3c0d0-0148-4554-bb9e-9a954de7b52a",
      "metadata": {
        "id": "93e3c0d0-0148-4554-bb9e-9a954de7b52a"
      },
      "outputs": [],
      "source": [
        "import matplotlib.pyplot as plt\n",
        "import seaborn as sns\n",
        "\n",
        "# Create a figure with two subplots (1 row, 2 columns)\n",
        "fig, axes = plt.subplots(1, 2, figsize=(12, 5))\n",
        "\n",
        "# 1 KDE Plot for 'Age'\n",
        "sns.kdeplot(df_cleaned_remove_age[\"Age\"], color=\"green\", fill=True, ax=axes[0])\n",
        "axes[0].set_title(\"KDE of the Variable 'Age'\", fontsize=14)\n",
        "axes[0].set_xlabel(\"Age\")\n",
        "axes[0].set_ylabel(\"Density\")\n",
        "axes[0].tick_params(axis='x', rotation=45)\n",
        "\n",
        "# 2 Boxplot for 'Age'\n",
        "sns.boxplot(y=df_cleaned_remove_age[\"Age\"], palette=\"Set2\", ax=axes[1])\n",
        "axes[1].set_title('Boxplot of the Numerical Variable \"Age\"', fontsize=14)\n",
        "axes[1].set_ylabel(\"Age\")\n",
        "\n",
        "# Adjust layout and display the plots\n",
        "plt.tight_layout()\n",
        "plt.show()\n"
      ]
    },
    {
      "cell_type": "markdown",
      "id": "6b4bad46-6dc2-4fd9-8154-dc8ec2b667ad",
      "metadata": {
        "id": "6b4bad46-6dc2-4fd9-8154-dc8ec2b667ad"
      },
      "source": [
        " Manage outliers of the variable \"Age\" by remplace them by the mean from the dataset"
      ]
    },
    {
      "cell_type": "code",
      "execution_count": null,
      "id": "95cd7daa-fbb8-4b62-82a1-c743b777ba9c",
      "metadata": {
        "id": "95cd7daa-fbb8-4b62-82a1-c743b777ba9c"
      },
      "outputs": [],
      "source": [
        "import numpy as np\n",
        "\n",
        "# Calculate the mean of 'Age' (excluding outliers)\n",
        "mean_age = df[(df[\"Age\"] >= lower_bound_age) & (df[\"Age\"] <= upper_bound_age)][\"Age\"].mean()\n",
        "\n",
        "# Replace outlier values with the mean\n",
        "df_filled_age = df.copy()  # Create a copy of the original DataFrame\n",
        "df_filled_age.loc[(df_filled_age[\"Age\"] < lower_bound_age) | (df_filled_age[\"Age\"] > upper_bound_age), \"Age\"] = mean_age\n",
        "\n",
        "# Display the modified DataFrame\n",
        "print(\"Dataset with Outliers Replaced by Mean:\")\n",
        "print(df_filled_age.head())\n"
      ]
    },
    {
      "cell_type": "code",
      "execution_count": null,
      "id": "864b9e72-7eb8-4468-b628-3010001d41f6",
      "metadata": {
        "id": "864b9e72-7eb8-4468-b628-3010001d41f6"
      },
      "outputs": [],
      "source": [
        "import matplotlib.pyplot as plt\n",
        "import seaborn as sns\n",
        "\n",
        "# Create a figure with two subplots (1 row, 2 columns)\n",
        "fig, axes = plt.subplots(1, 2, figsize=(12, 5))\n",
        "\n",
        "# 1 KDE Plot for 'Age'\n",
        "sns.kdeplot(df_filled_age[\"Age\"], color=\"green\", fill=True, ax=axes[0])\n",
        "axes[0].set_title(\"KDE of the Variable 'Age'\", fontsize=14)\n",
        "axes[0].set_xlabel(\"Age\")\n",
        "axes[0].set_ylabel(\"Density\")\n",
        "axes[0].tick_params(axis='x', rotation=45)\n",
        "\n",
        "# 2 Boxplot for 'Age'\n",
        "sns.boxplot(y=df_filled_age[\"Age\"], palette=\"Set2\", ax=axes[1])\n",
        "axes[1].set_title('Boxplot of the Numerical Variable \"Age\"', fontsize=14)\n",
        "axes[1].set_ylabel(\"Age\")\n",
        "\n",
        "# Adjust layout and display the plots\n",
        "plt.tight_layout()\n",
        "plt.show()\n"
      ]
    },
    {
      "cell_type": "markdown",
      "id": "d03a39f5-b6aa-4ce8-a599-54dcc2359441",
      "metadata": {
        "id": "d03a39f5-b6aa-4ce8-a599-54dcc2359441"
      },
      "source": [
        "###  Conclusion on Outlier Treatment in \"Age\" Variable  \n",
        "\n",
        "After analyzing and handling outliers in the \"Age\" variable using two different approaches, we observed the following:  \n",
        "\n",
        "1. Eliminating Outliers Using the Interquartile Range (IQR) Method.\n",
        "   - This method completely removed all outlier values** that fell outside the calculated IQR boundaries.\n",
        "   - While this ensures that extreme values do not distort the analysis, it also results in data loss by reducing the number of observations.\n",
        "\n",
        "2. Replacing Outliers with the Mean.  \n",
        "   - Instead of removing outliers, this method replaced them with the mean of non-outlier values.\n",
        "   - This approach preserved all observations, ensuring no data loss.\n",
        "   - However, some of the extreme values were still present in the dataset but were transformed to a less extreme value.\n",
        "\n",
        " Key Takeaways  \n",
        "- The IQR method is effective in completely eliminating outliers, which is useful when outliers represent errors or extreme anomalies.  \n",
        "- Replacing outliers with the mean retains all data points, which can be beneficial when dealing with small datasets or when outliers hold some meaningful information.  \n",
        "- The choice of method depends on the objective**:  \n",
        "  - If preserving all data is crucial → Use replacement methods (mean, median, etc.).  \n",
        "  - If ensuring a clean dataset without extreme influence is a priority → Use elimination methods (IQR, Z-score, etc.).  \n"
      ]
    },
    {
      "cell_type": "markdown",
      "id": "ee475f39-7ebc-4722-b86a-276f20d9c51e",
      "metadata": {
        "id": "ee475f39-7ebc-4722-b86a-276f20d9c51e"
      },
      "source": [
        "### 4.2.2. Summarize categorical variables (Exploring Single Variables) (Categorical variable choice = \"Survived\")\n"
      ]
    },
    {
      "cell_type": "code",
      "execution_count": null,
      "id": "9b71ec39-822c-48be-866a-bf4885188c50",
      "metadata": {
        "id": "9b71ec39-822c-48be-866a-bf4885188c50"
      },
      "outputs": [],
      "source": [
        "# To observe the n first rows of a column \"Survived\"\n",
        "\n",
        "df[\"Survived\"][0:3]"
      ]
    },
    {
      "cell_type": "code",
      "execution_count": null,
      "id": "12e869c5-b1c8-4fb8-8c8c-af2e3221fb12",
      "metadata": {
        "id": "12e869c5-b1c8-4fb8-8c8c-af2e3221fb12"
      },
      "outputs": [],
      "source": [
        "# This is how to access the 5 first rowws of a catherorical column \"Survived\"\n",
        "\n",
        "print (df[\"Survived\"].head())\n",
        "# dfn.Survived                        #  We can also write it like this\n",
        "# dfn['Survived']                     # Here is another way to access a column"
      ]
    },
    {
      "cell_type": "code",
      "execution_count": null,
      "id": "ac5cb340-34f1-4c51-b393-6bd5dbfca518",
      "metadata": {
        "id": "ac5cb340-34f1-4c51-b393-6bd5dbfca518"
      },
      "outputs": [],
      "source": [
        "# Count the number of occurrences for each category\n",
        "print(df[\"Survived\"].value_counts())\n"
      ]
    },
    {
      "cell_type": "code",
      "execution_count": null,
      "id": "d4d0098d-631f-4743-a0e4-c0911a6f28f0",
      "metadata": {
        "id": "d4d0098d-631f-4743-a0e4-c0911a6f28f0"
      },
      "outputs": [],
      "source": [
        "# Calculate the proportion of each category\n",
        "print(df[\"Survived\"].value_counts(normalize=True))  # Gives percentages\n"
      ]
    },
    {
      "cell_type": "code",
      "execution_count": null,
      "id": "33ca6909-5824-4933-b909-26508de11d95",
      "metadata": {
        "id": "33ca6909-5824-4933-b909-26508de11d95"
      },
      "outputs": [],
      "source": [
        "# Calculate the mean (only meaningful if 0/1 coding is used)\n",
        "print(df[\"Survived\"].mean())  # Survival rate\n"
      ]
    },
    {
      "cell_type": "code",
      "execution_count": null,
      "id": "0f241363-21e9-4afe-bae4-0c4e3e7bb18e",
      "metadata": {
        "id": "0f241363-21e9-4afe-bae4-0c4e3e7bb18e"
      },
      "outputs": [],
      "source": [
        "# Calculate the mode (most frequent value)\n",
        "print(df[\"Survived\"].mode())\n"
      ]
    },
    {
      "cell_type": "code",
      "execution_count": null,
      "id": "955c4f87-ec39-423b-bbdf-7a7706663e3d",
      "metadata": {
        "id": "955c4f87-ec39-423b-bbdf-7a7706663e3d"
      },
      "outputs": [],
      "source": [
        "# Standard deviation (meaningful if binary 0/1)\n",
        "print(df[\"Survived\"].std())\n"
      ]
    },
    {
      "cell_type": "code",
      "execution_count": null,
      "id": "0c0f5379-12d1-40d9-9137-6bcd8f07c250",
      "metadata": {
        "id": "0c0f5379-12d1-40d9-9137-6bcd8f07c250"
      },
      "outputs": [],
      "source": [
        "import matplotlib.pyplot as plt\n",
        "import seaborn as sns\n",
        "import pandas as pd\n",
        "\n",
        "# Create a figure with two subplots\n",
        "fig, axes = plt.subplots(1, 2, figsize=(12, 5))\n",
        "\n",
        "# 1 Count Plot (Absolute Count of Survived vs Not Survived)\n",
        "sns.countplot(data=df, x=\"Survived\", palette=\"coolwarm\", ax=axes[0])\n",
        "axes[0].set_title(\"Survival Count\")\n",
        "axes[0].set_xlabel(\"Survived (0 = No, 1 = Yes)\")\n",
        "axes[0].set_ylabel(\"Count\")\n",
        "axes[0].set_xticklabels([\"Not Survived\", \"Survived\"])\n",
        "\n",
        "# 2 Percentage Plot (Proportion of Survived vs Not Survived)\n",
        "df[\"Survived\"].value_counts(normalize=True).plot(\n",
        "    kind=\"bar\", color=[\"red\", \"green\"], ax=axes[1]\n",
        ")\n",
        "axes[1].set_title(\"Survival Percentage\")\n",
        "axes[1].set_xlabel(\"Survived (0 = No, 1 = Yes)\")\n",
        "axes[1].set_ylabel(\"Percentage\")\n",
        "axes[1].set_xticklabels([\"Not Survived\", \"Survived\"])\n",
        "axes[1].set_ylim(0, 1)  # Ensure y-axis is scaled for percentage\n",
        "\n",
        "# Show the plots\n",
        "plt.tight_layout()\n",
        "plt.show()\n"
      ]
    },
    {
      "cell_type": "markdown",
      "id": "2a435d44-914f-4e34-b038-8d490a295489",
      "metadata": {
        "id": "2a435d44-914f-4e34-b038-8d490a295489"
      },
      "source": [
        "Interpretation:  \n",
        "- A total of 424 passengers (60%) did not survive, while 288 passengers (40%) survived.  \n",
        "- The majority of passengers perished, with a significant survival gap.  \n",
        "- The survival rate being less than half (40%) suggests that conditions on the Titanic were unfavorable for most passengers.  \n",
        "- The large difference between the number of survivors and non-survivors indicates potential disparities in survival chances, possibly influenced by factors like class, gender, or age.  \n",
        "- Further investigation into demographics, ticket class, and other variables may provide deeper insights into who had a higher probability of survival.  \n"
      ]
    },
    {
      "cell_type": "code",
      "execution_count": null,
      "id": "63c41ee6-dde3-4d1a-8b93-46c14b9b4220",
      "metadata": {
        "id": "63c41ee6-dde3-4d1a-8b93-46c14b9b4220"
      },
      "outputs": [],
      "source": [
        "# Shows the survival rate as a percentage of total passengers.\n",
        "\n",
        "df[\"Survived\"].value_counts().plot(\n",
        "    kind=\"pie\", autopct=\"%1.1f%%\", colors=[\"yellow\", \"green\"], figsize=(6, 6),\n",
        "    labels=[\"Not Survived\", \"Survived\"], explode=(0, 0.1), shadow=True\n",
        ")\n",
        "plt.title(\"Survival Rate\")\n",
        "plt.ylabel(\"\")\n",
        "plt.show()\n"
      ]
    },
    {
      "cell_type": "markdown",
      "id": "820acdd6-726a-446c-bb68-bc65677765bc",
      "metadata": {
        "id": "820acdd6-726a-446c-bb68-bc65677765bc"
      },
      "source": [
        "### 4.2.2. Bivariate Analysis (Comparing Two Variables)"
      ]
    },
    {
      "cell_type": "markdown",
      "id": "d705e6e4-e1d3-4ced-abce-d7e103b599b4",
      "metadata": {
        "id": "d705e6e4-e1d3-4ced-abce-d7e103b599b4"
      },
      "source": [
        "### 4.2.2.1. Number of Tickets Sold by Class\n"
      ]
    },
    {
      "cell_type": "markdown",
      "id": "093f4182-467a-4e3c-8fb0-c020e2a8aa79",
      "metadata": {
        "id": "093f4182-467a-4e3c-8fb0-c020e2a8aa79"
      },
      "source": [
        "\n",
        "The goal is to analyze how many tickets were sold across different passenger classes (\"Pclass\"). By grouping the dataset by ticket class, we can determine:  \n",
        "- The total number of tickets sold per class.  \n",
        "- The percentage distribution of ticket sales among classes.  \n",
        "- The differences in ticket sales between first, second, and third-class passengers.  \n",
        "\n",
        "Understanding ticket distribution can provide insights into \"passenger demographics, socio-economic status, and survival probabilities\" in later analyses.  "
      ]
    },
    {
      "cell_type": "code",
      "execution_count": null,
      "id": "1246dc23-eab3-41fc-a95c-5f24fe0c8d47",
      "metadata": {
        "id": "1246dc23-eab3-41fc-a95c-5f24fe0c8d47"
      },
      "outputs": [],
      "source": [
        "# Apply the \"groupby\" function to group the DataFrame by class.\n",
        "# Missing values are represented as \"NaN\".\n",
        "\n",
        "pclassAllColumns_df = df.groupby(\"Pclass\").count()\n",
        "pclassAllColumns_df\n"
      ]
    },
    {
      "cell_type": "code",
      "execution_count": null,
      "id": "464d6526-72be-4ac4-a8b5-cf13a7ca8153",
      "metadata": {
        "id": "464d6526-72be-4ac4-a8b5-cf13a7ca8153"
      },
      "outputs": [],
      "source": [
        "# We select a single column \"PassengerId\" among all columns\n",
        "pclass_passenger_df = df.groupby(\"Pclass\")[\"PassengerId\"].count()\n",
        "pclass_passenger_df\n"
      ]
    },
    {
      "cell_type": "code",
      "execution_count": null,
      "id": "c1fe7baa-ed1d-4aea-aa12-04470636eb08",
      "metadata": {
        "id": "c1fe7baa-ed1d-4aea-aa12-04470636eb08"
      },
      "outputs": [],
      "source": [
        "# Replace the column label \"PassengerId\" with \"Tickets Sold\" to count the number of tickets sold.\n",
        "# We slightly adjust the column names to differentiate between the categories.\n",
        "# \"Pclass\" and \"Tickets Sold\"\n",
        "\n",
        "# Tickets sold per class\n",
        "tickets_sold_df = df.groupby(\"Pclass\")[\"PassengerId\"].count().to_frame(name=\"Tickets Sold\")\n",
        "tickets_sold_df\n"
      ]
    },
    {
      "cell_type": "code",
      "execution_count": null,
      "id": "23315bf2-46bb-47f0-9056-a9374921288e",
      "metadata": {
        "id": "23315bf2-46bb-47f0-9056-a9374921288e"
      },
      "outputs": [],
      "source": [
        "import matplotlib.pyplot as plt\n",
        "import pandas as pd\n",
        "\n",
        "# Group data by \"Pclass\" and count tickets sold\n",
        "tickets_sold_df = df.groupby(\"Pclass\")[\"PassengerId\"].count().to_frame(name=\"Tickets Sold\")\n",
        "\n",
        "# Compute frequency distribution (percentage)\n",
        "tickets_sold_percentage = (tickets_sold_df / tickets_sold_df.sum()) * 100\n",
        "\n",
        "# Create subplots for count and frequency\n",
        "fig, axes = plt.subplots(1, 2, figsize=(12, 5))\n",
        "\n",
        "# Bar chart for count of tickets sold per class\n",
        "tickets_sold_df.plot(kind=\"bar\", legend=False, color=[\"green\", \"blue\", \"red\"], width=0.3, ax=axes[0])\n",
        "axes[0].set_title(\"Number of Tickets Sold per Class\")\n",
        "axes[0].set_xlabel(\"Pclass\")\n",
        "axes[0].set_ylabel(\"Count\")\n",
        "axes[0].set_xticklabels(tickets_sold_df.index, rotation=0)\n",
        "\n",
        "# Bar chart for percentage of tickets sold per class\n",
        "tickets_sold_percentage.plot(kind=\"bar\", legend=False, color=[\"blue\", \"green\", \"red\"], width=0.3, ax=axes[1])\n",
        "axes[1].set_title(\"Percentage of Tickets Sold per Class\")\n",
        "axes[1].set_xlabel(\"Pclass\")\n",
        "axes[1].set_ylabel(\"Percentage (%)\")\n",
        "axes[1].set_xticklabels(tickets_sold_percentage.index, rotation=0)\n",
        "\n",
        "# Adjust layout for better visibility\n",
        "plt.tight_layout()\n",
        "plt.show()\n"
      ]
    },
    {
      "cell_type": "markdown",
      "id": "ecdc2b31-0a0e-4072-a8a5-25dda0579e13",
      "metadata": {
        "id": "ecdc2b31-0a0e-4072-a8a5-25dda0579e13"
      },
      "source": [
        "Interpretation of Ticket Sales by Class :\n",
        "\n",
        "1 Ticket Count Analysis\n",
        "- First-class: 184 tickets sold  \n",
        "- Second-class: 173 tickets sold  \n",
        "- Third-class: 355 tickets sold  \n",
        "\n",
        "The highest number of tickets sold was in \"third class (355 passengers)\", nearly \"double the first-class tickets (184)\". Second-class had a slightly lower count than first-class.\n",
        "\n",
        "2. Percentage Distribution\n",
        "To understand the proportion of ticket sales per class:  \n",
        "\n",
        "- First-class: (184 / (184 + 173 + 355)) × 100 ≈ 24.3%\n",
        "- Second-class: (173 / (184 + 173 + 355)) × 100 ≈ 22.9%\n",
        "- Third-class: (355 / (184 + 173 + 355)) × 100 ≈ 52.8%  \n",
        "\n",
        "3. Insights from the Data\n",
        "- More than **half of the passengers (52.8%) traveled in third class, indicating it was the most affordable and accessible option.  \n",
        "- First and second-class passengers combined (47.2%) still made up less than third-class alone, but their presence suggests a considerable number of wealthier travelers on board.  \n",
        "- The relatively similar number of tickets in first and second class (24.3% vs. 22.9%) suggests a balanced distribution between upper-middle and upper-class passengers.  \n"
      ]
    },
    {
      "cell_type": "markdown",
      "id": "ed22ee14-97da-43aa-acb8-b6684e9a0d45",
      "metadata": {
        "id": "ed22ee14-97da-43aa-acb8-b6684e9a0d45"
      },
      "source": [
        "### 4.2.2.2. Number of Survivors by Class"
      ]
    },
    {
      "cell_type": "markdown",
      "id": "55d3cedb-8206-48bf-ba99-c556183551d5",
      "metadata": {
        "id": "55d3cedb-8206-48bf-ba99-c556183551d5"
      },
      "source": [
        "\n",
        "The objective of this analysis is to examine the distribution of survivors across different passenger classes. By comparing the number of survivors and total passengers in each class, we aim to:  \n",
        "\n",
        "- Determine how survival chances varied based on socio-economic status.  \n",
        "- Calculate the survival rate (%) for each class.  \n",
        "- Identify disparities in survival likelihood, particularly between first, second, and third-class passengers.  \n",
        "- Provide insights into how class influenced access to lifeboats and safety measures during the Titanic disaster.  \n"
      ]
    },
    {
      "cell_type": "code",
      "execution_count": null,
      "id": "4eeb7488-e5b9-4a1e-8a2a-d6762e22a19f",
      "metadata": {
        "id": "4eeb7488-e5b9-4a1e-8a2a-d6762e22a19f"
      },
      "outputs": [],
      "source": [
        "import pandas as pd\n",
        "\n",
        "# Group by \"Pclass\" and calculate the number of survivors and total passengers\n",
        "df_count_survived_class = df.groupby(\"Pclass\").agg(\n",
        "    Survived_count=(\"Survived\", lambda x: (x == 1).sum()),  # Count survivors\n",
        "    # Alternative: Survived_count=(\"Survived\", \"sum\")  # Works without lambda\n",
        "    Total_Passengers=(\"PassengerId\", \"count\")  # Count total passengers per class\n",
        ").reset_index()\n",
        "\n",
        "# Calculate survival rate per class\n",
        "df_count_survived_class[\"Survival_Rate (%)\"] = (df_count_survived_class[\"Survived_count\"] / df_count_survived_class[\"Total_Passengers\"]) * 100\n",
        "\n",
        "# Display the DataFrame\n",
        "print(df_count_survived_class)\n"
      ]
    },
    {
      "cell_type": "code",
      "execution_count": null,
      "id": "538f2840-9aaa-4534-93ad-df8057513b30",
      "metadata": {
        "id": "538f2840-9aaa-4534-93ad-df8057513b30"
      },
      "outputs": [],
      "source": [
        "import pandas as pd\n",
        "\n",
        "# Calculate the survival frequency (mean survival rate) for each class\n",
        "df_survived_class_freq = df.groupby(\"Pclass\")[[\"Survived\"]].mean().reset_index()\n",
        "\n",
        "# Rename the column for clarity\n",
        "df_survived_class_freq.rename(columns={\"Survived\": \"Survival_Rate\"}, inplace=True)\n",
        "\n",
        "# Convert survival rate to percentage for better interpretation\n",
        "df_survived_class_freq[\"Survival_Rate (%)\"] = df_survived_class_freq[\"Survival_Rate\"] * 100\n",
        "\n",
        "# Display the DataFrame\n",
        "print(df_survived_class_freq)\n"
      ]
    },
    {
      "cell_type": "code",
      "execution_count": null,
      "id": "0bb02aa9-a5b3-45fc-8c81-818cbdc6922c",
      "metadata": {
        "id": "0bb02aa9-a5b3-45fc-8c81-818cbdc6922c"
      },
      "outputs": [],
      "source": [
        "import matplotlib.pyplot as plt\n",
        "\n",
        "# Create subplots for count and frequency\n",
        "fig, axes = plt.subplots(1, 2, figsize=(12, 6))\n",
        "\n",
        "# Bar chart for the count of survivors per class\n",
        "df_count_survived_class.plot(kind=\"bar\", x=\"Pclass\", y=\"Survived_count\", legend=False, color=[\"green\"], ax=axes[0])\n",
        "axes[0].set_title('Number of Survivors per \"Class\"')\n",
        "axes[0].set_xlabel(\"Pclass\")\n",
        "axes[0].set_ylabel(\"Count\")\n",
        "axes[0].set_xticklabels(df_count_survived_class[\"Pclass\"], rotation=0)\n",
        "\n",
        "\n",
        "# Bar chart for the survival rate per class\n",
        "df_survived_class_freq.plot(kind=\"bar\", x=\"Pclass\", y=\"Survival_Rate (%)\", legend=False, color=[\"blue\"], ax=axes[1])\n",
        "axes[1].set_title('Percentage of Survivors per \"Class\"')\n",
        "axes[1].set_xlabel(\"Pclass\")\n",
        "axes[1].set_ylabel(\"Percentage (%)\")\n",
        "axes[1].set_xticklabels(df_survived_class_freq[\"Pclass\"], rotation=0)\n",
        "\n",
        "\n",
        "# Adjust layout for better visibility\n",
        "plt.tight_layout()\n",
        "plt.show()\n"
      ]
    },
    {
      "cell_type": "code",
      "execution_count": null,
      "id": "e43dc499-5d20-46ad-82c8-72a31b151f9b",
      "metadata": {
        "id": "e43dc499-5d20-46ad-82c8-72a31b151f9b"
      },
      "outputs": [],
      "source": [
        "# Plot del grafico in modo gumelatto\n",
        "plt.bar(df_count_survived_class[\"Pclass\"], df_count_survived_class[\"Total_Passengers\"], label=\"Total Passengers\")\n",
        "plt.bar(df_count_survived_class[\"Pclass\"], df_count_survived_class[\"Survived_count\"], label=\"survived\", color=\"green\")\n",
        "plt.xlabel(\"Pclass\")\n",
        "plt.ylabel(\"Counts\")\n",
        "plt.title(\"Counts of Survived Passengers and Total Passengers by Pclass\")\n",
        "plt.legend()\n",
        "plt.show()"
      ]
    },
    {
      "cell_type": "markdown",
      "id": "42ae748e-0157-492b-b5f8-f87bd34aa9bd",
      "metadata": {
        "id": "42ae748e-0157-492b-b5f8-f87bd34aa9bd"
      },
      "source": [
        "Interpretation:\n",
        "- In first class, 120 out of 184 passengers survived, resulting in a survival rate of 65.22%. This indicates that first-class passengers had the highest chance of survival.  \n",
        "- In second class, 83 out of 173 passengers survived, giving a survival rate of 47.98%. This shows a significant drop in survival probability compared to first class.  \n",
        "- In third class, only 85 out of 355 passengers survived, leading to a survival rate of 23.94%. This highlights that third-class passengers had the lowest chances of survival.  \n",
        "- The survival rate decreases as the class number increases, suggesting that higher-class passengers had better access to lifeboats and safety measures.  \n",
        "- The difference in survival rates between first and third class is significant, indicating that socio-economic status played a crucial role in survival chances.  \n",
        "\n"
      ]
    },
    {
      "cell_type": "code",
      "execution_count": null,
      "id": "63d8071e-30e4-4cfd-bbae-7909653a53c5",
      "metadata": {
        "id": "63d8071e-30e4-4cfd-bbae-7909653a53c5"
      },
      "outputs": [],
      "source": [
        "import pandas as pd\n",
        "\n",
        "# Count the number of non-survivors and the total number of passengers for each class\n",
        "\n",
        "df_count_no_survived_class = df.groupby(\"Pclass\").agg(                     # Group by passenger class\n",
        "    no_survived_count=(\"Survived\", lambda x: (x == 0).sum()),              # Count non-survivors (where Survived == 0)\n",
        "    Total_Passengers=(\"PassengerId\", \"count\")                              # Count total passengers per class\n",
        ").reset_index()                                                            # Reset index for better readability\n",
        "\n",
        "# Display the DataFrame\n",
        "print(df_count_no_survived_class)\n"
      ]
    },
    {
      "cell_type": "code",
      "execution_count": null,
      "id": "52adc827-3268-431c-95a1-1b6a6837a840",
      "metadata": {
        "id": "52adc827-3268-431c-95a1-1b6a6837a840"
      },
      "outputs": [],
      "source": [
        "# Plot of the graph: both on the same band.\n",
        "\n",
        "plt.bar(df_count_no_survived_class[\"Pclass\"], df_count_no_survived_class[\"Total_Passengers\"], label=\"Total Passengers\", color = \"blue\")\n",
        "# plt.bar(x1, y1, label1 =legend1, color = \"blue\", ecc..)\n",
        "plt.bar(df_count_no_survived_class[\"Pclass\"], df_count_no_survived_class[\"no_survived_count\"], label=\"not survived\", color=\"green\")\n",
        "# plt.bar(x2, y2, label2 =legend2, color = \"green\", ecc..)\n",
        "\n",
        "plt.xlabel(\"Pclass\")\n",
        "plt.ylabel(\"Counts\")\n",
        "plt.title(\"Counts of Not Survived Passengers and Total Passengers by Pclass\")\n",
        "plt.legend()\n",
        "plt.show()"
      ]
    },
    {
      "cell_type": "code",
      "execution_count": null,
      "id": "83a79d3a-30d2-4e48-9a05-528412a9488c",
      "metadata": {
        "id": "83a79d3a-30d2-4e48-9a05-528412a9488c"
      },
      "outputs": [],
      "source": [
        "# OTHER METHOD.\n",
        "# Create a new column for non-surviving passengers.\n",
        "\n",
        "df[\"no_Survived\"]= (df[\"Survived\"]==0).astype(int)\n",
        "\n",
        "# Group by class and aggregate counts.\n",
        "df_count_no_surv_class_2 = df.groupby(\"Pclass\").agg(\n",
        "    no_surv_class = (\"no_Survived\", \"sum\"),\n",
        "    Total =(\"PassengerId\",\"count\")\n",
        ")\n",
        "df_count_no_surv_class_2"
      ]
    },
    {
      "cell_type": "code",
      "execution_count": null,
      "id": "f28e4a11-6158-4dce-99d6-80de14d96c04",
      "metadata": {
        "id": "f28e4a11-6158-4dce-99d6-80de14d96c04"
      },
      "outputs": [],
      "source": [
        "df_count_no_surv_class_2.plot(kind=\"bar\")\n",
        "plt.xticks (rotation=0)\n",
        "plt.ylabel(\"counts\")\n",
        "plt.title(\"Numbers of non survived\")\n"
      ]
    },
    {
      "cell_type": "markdown",
      "id": "f8365a2e-7788-45bb-b27b-c09e5f9a0903",
      "metadata": {
        "jp-MarkdownHeadingCollapsed": true,
        "id": "f8365a2e-7788-45bb-b27b-c09e5f9a0903"
      },
      "source": [
        " Interpretation:  \n",
        "- In first class, 64 out of 184 passengers did not survive, meaning the non-survival rate was approximately 34.78%. This indicates that first-class passengers had the highest chance of survival compared to other classes.  \n",
        "- In second class, 90 out of 173 passengers did not survive, giving a non-survival rate of 52.02%. This shows that survival chances dropped significantly compared to first class.  \n",
        "- In third class, 270 out of 355 passengers did not survive, resulting in a non-survival rate of 76.06%. This highlights that third-class passengers had the highest fatality rate, suggesting that lower-class passengers had more difficulty accessing lifeboats and safety measures.  \n",
        "- The higher the class, the lower the percentage of non-survivors, indicating that social status played a crucial role in survival chances on the Titanic.  \n",
        "\n"
      ]
    },
    {
      "cell_type": "markdown",
      "id": "873a84bc-ad7e-4ba2-9bd8-52cd3ae56b32",
      "metadata": {
        "id": "873a84bc-ad7e-4ba2-9bd8-52cd3ae56b32"
      },
      "source": [
        "### 4.2.2.3. Number of Survivors by Gender"
      ]
    },
    {
      "cell_type": "code",
      "execution_count": null,
      "id": "55348389-800d-486c-8c44-bbbb6a2f104f",
      "metadata": {
        "id": "55348389-800d-486c-8c44-bbbb6a2f104f"
      },
      "outputs": [],
      "source": [
        "import pandas as pd\n",
        "\n",
        "# Group by 'Sex' and calculate survival count and rate\n",
        "df_survived_sex = df.groupby(\"Sex\").agg(\n",
        "    Survived_count=(\"Survived\", lambda x: (x == 1).sum()),  # Count of survivors\n",
        "    Total_Passengers=(\"Sex\", \"count\"),  # Count of total passengers per gender\n",
        "    Survival_Rate=(\"Survived\", \"mean\")  # Mean survival rate\n",
        ").reset_index()\n",
        "\n",
        "# Convert survival rate to percentage\n",
        "df_survived_sex[\"Survival_Rate (%)\"] = df_survived_sex[\"Survival_Rate\"] * 100\n",
        "\n",
        "# Display the DataFrame\n",
        "print(df_survived_sex)\n"
      ]
    },
    {
      "cell_type": "code",
      "execution_count": null,
      "id": "37493460-3ff6-4c8e-823f-96ffb7586f44",
      "metadata": {
        "id": "37493460-3ff6-4c8e-823f-96ffb7586f44"
      },
      "outputs": [],
      "source": [
        "import matplotlib.pyplot as plt\n",
        "\n",
        "# Create subplots for count and frequency of survivors by gender\n",
        "fig, axes = plt.subplots(1, 2, figsize=(12, 6))\n",
        "\n",
        "# Bar chart for the count of survivors per gender\n",
        "df_survived_sex.plot(kind=\"bar\", x=\"Sex\", y=\"Survived_count\", legend=False, color=[\"green\"], ax=axes[0])\n",
        "axes[0].set_title(\"Number of Survivors by Gender\")\n",
        "axes[0].set_xlabel(\"Gender\")\n",
        "axes[0].set_ylabel(\"Count\")\n",
        "axes[0].set_xticklabels(df_survived_sex[\"Sex\"], rotation=0)\n",
        "\n",
        "# Add labels on top of bars (count)\n",
        "for index, value in enumerate(df_survived_sex[\"Survived_count\"]):\n",
        "    axes[0].text(index, value + 1, str(value), ha='center', fontsize=12)\n",
        "\n",
        "# Bar chart for the survival rate per gender\n",
        "df_survived_sex.plot(kind=\"bar\", x=\"Sex\", y=\"Survival_Rate (%)\", legend=False, color=[\"blue\"], ax=axes[1])\n",
        "axes[1].set_title(\"Percentage of Survivors by Gender\")\n",
        "axes[1].set_xlabel(\"Gender\")\n",
        "axes[1].set_ylabel(\"Percentage (%)\")\n",
        "axes[1].set_xticklabels(df_survived_sex[\"Sex\"], rotation=0)\n",
        "\n",
        "# Add labels on top of bars (percentage)\n",
        "for index, value in enumerate(df_survived_sex[\"Survival_Rate (%)\"]):\n",
        "    axes[1].text(index, value + 1, f\"{value:.1f}%\", ha='center', fontsize=12)\n",
        "\n",
        "# Adjust layout for better visibility\n",
        "plt.tight_layout()\n",
        "plt.show()\n"
      ]
    },
    {
      "cell_type": "code",
      "execution_count": null,
      "id": "274d4bd9-5496-4764-9ea8-cec28fbe0a86",
      "metadata": {
        "id": "274d4bd9-5496-4764-9ea8-cec28fbe0a86"
      },
      "outputs": [],
      "source": [
        "# FIRST METHOD WITH INDEX\n",
        "\n",
        "# Calculate survival count and total passengers by gender\n",
        "df_surv_sex_count = df[['Survived', 'Sex']].groupby(\"Sex\").sum()\n",
        "\n",
        "\n",
        "df_surv_sex_count[\"Total by Sex\"] = df[['Survived', 'Sex']].groupby(\"Sex\").count()\n",
        "\n",
        "# Reset index for better readability\n",
        "df_surv_sex_count = df_surv_sex_count.reset_index()\n",
        "df_surv_sex_count\n"
      ]
    },
    {
      "cell_type": "code",
      "execution_count": null,
      "id": "e384dbf5-cbfd-4c96-b21a-cc117621e04c",
      "metadata": {
        "id": "e384dbf5-cbfd-4c96-b21a-cc117621e04c"
      },
      "outputs": [],
      "source": [
        "import matplotlib.pyplot as plt\n",
        "\n",
        "# Plot the bar chart\n",
        "fig, ax = plt.subplots(figsize=(8, 6))\n",
        "df_surv_sex_count.plot(kind=\"bar\", x=\"Sex\", ax=ax, color=[\"green\", \"gray\"])\n",
        "\n",
        "# Customize the chart\n",
        "plt.legend()\n",
        "plt.xticks(rotation=0)\n",
        "plt.ylabel(\"Count\")\n",
        "plt.title(\"Count of Survivors by Sex\")\n",
        "\n",
        "# Show the plot\n",
        "plt.show()\n"
      ]
    },
    {
      "cell_type": "code",
      "execution_count": null,
      "id": "2d869043-2a10-44e5-bb28-3eaf50699d13",
      "metadata": {
        "id": "2d869043-2a10-44e5-bb28-3eaf50699d13"
      },
      "outputs": [],
      "source": [
        "# SECOND METHOD (WITHOUT INDEX OPTION)\n",
        "\n",
        "# Group by 'Sex' and calculate the total number of survivors\n",
        "df_surv_sex_count = df[['Survived','Sex']].groupby(\"Sex\").sum()\n",
        "\n",
        "# Group by 'Sex' and calculate the total number of passengers per gender\n",
        "df_surv_sex_count[\"Total by Sex\"] = df[['Survived','Sex']].groupby(\"Sex\").count()\n",
        "\n",
        "df_surv_sex_count\n"
      ]
    },
    {
      "cell_type": "code",
      "execution_count": null,
      "id": "32141e0a-842c-43b2-9ec0-bf514b8bc7c9",
      "metadata": {
        "id": "32141e0a-842c-43b2-9ec0-bf514b8bc7c9"
      },
      "outputs": [],
      "source": [
        "# FIRST METHOD\n",
        "import matplotlib.pyplot as plt\n",
        "\n",
        "df_surv_sex_count.plot(kind=\"bar\")\n",
        "plt.legend()\n",
        "plt.xticks(rotation=0)\n",
        "plt.ylabel(\"count\")\n",
        "plt.title(\"Count survived \")\n"
      ]
    },
    {
      "cell_type": "markdown",
      "id": "202d0ec2-1bd4-4bce-a762-d0dcfb78acaa",
      "metadata": {
        "id": "202d0ec2-1bd4-4bce-a762-d0dcfb78acaa"
      },
      "source": [
        "Interpretation:  \n",
        "- Among female passengers, 195 out of 259 survived, resulting in a survival rate of 75.29%. This suggests that women had a significantly higher chance of survival, likely due to the \"women and children first\" evacuation protocol.  \n",
        "- Among male passengers, only 93 out of 453 survived, leading to a survival rate of 20.53%. This indicates that men had a much lower probability of survival compared to women.  \n",
        "- The disparity in survival rates between men and women shows that gender played a crucial role in survival chances. Women were prioritized during evacuation, while men were less likely to secure spots in lifeboats.  \n",
        "- The survival rate for women is more than three times higher than for men, reinforcing historical accounts that many male passengers sacrificed their chances to let women and children board lifeboats first.  \n",
        "- This data can also serve as a source for understanding cultural aspects and the importance given to women in society at that time, particularly in life-and-death situations where social norms dictated prioritizing their survival.  \n",
        "\n"
      ]
    },
    {
      "cell_type": "markdown",
      "id": "613002e3-0703-400a-ae42-00dd1ed1bfe7",
      "metadata": {
        "id": "613002e3-0703-400a-ae42-00dd1ed1bfe7"
      },
      "source": [
        "### 4.2.2.4. Survival Rate Based on Age Groups\n"
      ]
    },
    {
      "cell_type": "markdown",
      "id": "2c5292ae-8171-4620-8c6e-cbc688cfc528",
      "metadata": {
        "id": "2c5292ae-8171-4620-8c6e-cbc688cfc528"
      },
      "source": [
        "Goals of This Analysis:\n",
        "Understand how survival chances varied across different age groups.\n",
        "Compare the survival rate of children, adults, and elderly passengers.\n",
        "Identify potential patterns in survival linked to age.\n",
        "Determine if the \"Women and Children First\" evacuation rule was applied.\n"
      ]
    },
    {
      "cell_type": "markdown",
      "id": "508d4c70-2818-474a-ac10-628c89d26a76",
      "metadata": {
        "id": "508d4c70-2818-474a-ac10-628c89d26a76"
      },
      "source": [
        "First, let's look at the distribution of values for the age variable, so that we can study the survival parameter as a function of the different age groups."
      ]
    },
    {
      "cell_type": "code",
      "execution_count": null,
      "id": "e4f078c0-ed74-4295-b69c-4a4356a10793",
      "metadata": {
        "id": "e4f078c0-ed74-4295-b69c-4a4356a10793"
      },
      "outputs": [],
      "source": [
        "import matplotlib.pyplot as plt\n",
        "import seaborn as sns\n",
        "import numpy as np\n",
        "\n",
        "# Calculate mean and standard deviation of Age\n",
        "mean_age = df[\"Age\"].mean()\n",
        "std_age = df[\"Age\"].std()\n",
        "\n",
        "# Histogram with KDE and standard deviation bands\n",
        "plt.figure(figsize=(12, 5))\n",
        "\n",
        "plt.subplot(1, 2, 1)\n",
        "sns.histplot(df, x=\"Age\", bins=20, kde=True, element=\"step\", multiple=\"stack\", fill=False, color=\"blue\")\n",
        "\n",
        "# Add vertical lines for mean and standard deviations\n",
        "plt.axvline(mean_age, color=\"red\", linestyle=\"--\", label=f\"Mean: {mean_age:.1f}\")\n",
        "plt.axvline(mean_age - std_age, color=\"orange\", linestyle=\"--\", label=f\"-1 Std Dev: {mean_age - std_age:.1f}\")\n",
        "plt.axvline(mean_age + std_age, color=\"orange\", linestyle=\"--\", label=f\"+1 Std Dev: {mean_age + std_age:.1f}\")\n",
        "\n",
        "# Formatting\n",
        "plt.title(\"Age Distribution with Standard Deviation\", fontsize=14)\n",
        "plt.xlabel(\"Age\")\n",
        "plt.ylabel(\"Count\")\n",
        "plt.xticks(rotation=45)\n",
        "plt.legend()\n",
        "\n",
        "plt.show()\n"
      ]
    },
    {
      "cell_type": "code",
      "execution_count": null,
      "id": "7e59fd50-e77a-405d-99cc-a1977969e8c6",
      "metadata": {
        "id": "7e59fd50-e77a-405d-99cc-a1977969e8c6"
      },
      "outputs": [],
      "source": [
        "import pandas as pd\n",
        "\n",
        "# Creating 4 DataFrames based on the second option (Balanced Age Groups)\n",
        "\n",
        "# Define age groups\n",
        "children = df[df[\"Age\"] <= 12]                                # 0 - 12 years (Children)\n",
        "young_adults = df[(df[\"Age\"] > 12) & (df[\"Age\"] <= 25)]       # 13 - 25 years (Young Adults)\n",
        "middle_adults = df[(df[\"Age\"] > 25) & (df[\"Age\"] <= 40)]      # 26 - 40 years (Middle-aged Adults)\n",
        "older_adults = df[df[\"Age\"] > 40]                             # 41+ years (Older Adults & Seniors)\n",
        "\n",
        "# Display the results\n",
        "print(\"Children (0-12 years):\\n\", children.head())\n",
        "print()\n",
        "print(\"\\nYoung Adults (13-25 years):\\n\", young_adults.head())\n",
        "print()\n",
        "print(\"\\nMiddle-aged Adults (26-40 years):\\n\", middle_adults.head())\n",
        "print()\n",
        "print(\"\\nOlder Adults & Seniors (41+ years):\\n\", older_adults.head())\n"
      ]
    },
    {
      "cell_type": "code",
      "execution_count": null,
      "id": "5aebbe1e-5d17-466b-8c42-7dcf567379bb",
      "metadata": {
        "id": "5aebbe1e-5d17-466b-8c42-7dcf567379bb"
      },
      "outputs": [],
      "source": [
        "import pandas as pd\n",
        "\n",
        "# Function to calculate survival statistics\n",
        "def survival_stats(df, age_group_name):\n",
        "    total_passengers = len(df)\n",
        "    survived_count = df[\"Survived\"].sum()\n",
        "    survival_rate = (survived_count / total_passengers) * 100 if total_passengers > 0 else 0\n",
        "\n",
        "    return {\n",
        "        \"Age Group\": age_group_name,\n",
        "        \"Total Passengers\": total_passengers,\n",
        "        \"Survived Count\": survived_count,\n",
        "        \"Survival Rate (%)\": round(survival_rate, 2)\n",
        "    }\n",
        "\n",
        "# Calculate statistics for each age group\n",
        "children_stats = survival_stats(children, \"Children \\n(0-12 years)\")\n",
        "young_adults_stats = survival_stats(young_adults, \"Young Adults\\n (13-25 years)\")\n",
        "middle_adults_stats = survival_stats(middle_adults, \"Middle-aged Adults\\n (26-40 years)\")\n",
        "older_adults_stats = survival_stats(older_adults, \"Older Adults & \\n Seniors (41+ years)\")\n",
        "\n",
        "# Create a DataFrame for comparison\n",
        "df_survival_by_age_group = pd.DataFrame([\n",
        "    children_stats,\n",
        "    young_adults_stats,\n",
        "    middle_adults_stats,\n",
        "    older_adults_stats\n",
        "])\n",
        "\n",
        "# Display the results\n",
        "# print(df_survival_by_age_group)\n",
        "df_survival_by_age_group\n"
      ]
    },
    {
      "source": [
        "# @title Age Group vs Survived Count\n",
        "\n",
        "from matplotlib import pyplot as plt\n",
        "import seaborn as sns\n",
        "figsize = (12, 1.2 * len(df_survival_by_age_group['Age Group'].unique()))\n",
        "plt.figure(figsize=figsize)\n",
        "sns.violinplot(df_survival_by_age_group, x='Survived Count', y='Age Group', inner='stick', palette='Dark2')\n",
        "sns.despine(top=True, right=True, bottom=True, left=True)"
      ],
      "cell_type": "code",
      "execution_count": null,
      "outputs": [],
      "metadata": {
        "cellView": "form",
        "id": "Wvw2T9lbe9QY"
      },
      "id": "Wvw2T9lbe9QY"
    },
    {
      "cell_type": "code",
      "execution_count": null,
      "id": "017fd00f-ecb6-4d75-9600-cb7863493042",
      "metadata": {
        "id": "017fd00f-ecb6-4d75-9600-cb7863493042"
      },
      "outputs": [],
      "source": [
        "import pandas as pd\n",
        "import matplotlib.pyplot as plt\n",
        "\n",
        "\n",
        "# Bar Chart: Comparison of Survival Rate per Age Group\n",
        "plt.figure(figsize=(8, 5))\n",
        "plt.bar(df_survival_by_age_group[\"Age Group\"], df_survival_by_age_group[\"Survival Rate (%)\"], color=\"blue\")\n",
        "plt.xlabel(\"Age Group\")\n",
        "plt.ylabel(\"Survival Rate (%)\")\n",
        "plt.title(\"Survival Rate by Age Group\")\n",
        "plt.xticks(rotation=0)\n",
        "plt.show()\n",
        "\n",
        "# Stacked Bar Chart: Survivors vs. Non-survivors per Age Group\n",
        "fig, ax = plt.subplots(figsize=(8, 5))\n",
        "survived = df_survival_by_age_group[\"Survived Count\"]\n",
        "non_survived = df_survival_by_age_group[\"Total Passengers\"] - df_survival_by_age_group[\"Survived Count\"]\n",
        "categories = df_survival_by_age_group[\"Age Group\"]\n",
        "\n",
        "bar1 = ax.bar(categories, survived, color=\"green\", label=\"Survived\")\n",
        "bar2 = ax.bar(categories, non_survived, bottom=survived, color=\"red\", label=\"Non-Survived\")\n",
        "\n",
        "ax.set_title(\"Survivors vs. Non-Survivors by Age Group\")\n",
        "ax.set_xlabel(\"Age Group\")\n",
        "ax.set_ylabel(\"Count\")\n",
        "ax.legend()\n",
        "plt.xticks(rotation=0)\n",
        "plt.show()\n"
      ]
    },
    {
      "cell_type": "code",
      "execution_count": null,
      "id": "d56df975-c8e1-4c81-af2c-8de916c36bdb",
      "metadata": {
        "id": "d56df975-c8e1-4c81-af2c-8de916c36bdb"
      },
      "outputs": [],
      "source": [
        "# Pie Chart: Survivor Proportion per Age Group\n",
        "plt.figure(figsize=(8, 5))\n",
        "plt.pie(df_survival_by_age_group[\"Survived Count\"], labels=df_survival_by_age_group[\"Age Group\"], autopct=\"%1.1f%%\", colors=[\"gold\", \"lightblue\", \"lightgreen\", \"pink\"])\n",
        "plt.title(\"Survivor Proportion by Age Group\")\n",
        "plt.show()\n"
      ]
    },
    {
      "cell_type": "markdown",
      "id": "60546358-8775-495a-acee-76766a7b3651",
      "metadata": {
        "id": "60546358-8775-495a-acee-76766a7b3651"
      },
      "source": [
        "Interpretation of Survival Rates by Age Group  \n",
        "\n",
        "1. Children (0-12 years) had the highest survival rate (57.97%).  \n",
        "   - This supports the \"Women and children first\" evacuation policy.  \n",
        "   - They were likely given priority access to lifeboats.  \n",
        "\n",
        "2. Young Adults (13-25 years) had the lowest survival rate (36.21%).  \n",
        "   - This age group includes many teenagers and young men, who may have been less prioritized in rescue efforts.  \n",
        "   - Young men in particular may have faced lower survival chances due to the \"Save women and children first\" rule.  \n",
        "\n",
        "3. Middle-aged Adults (26-40 years) had a survival rate of 41.98%, higher than young adults.  \n",
        "   - This group includes parents and working-class passengers who may have prioritized their families' safety.  \n",
        "   - Women in this group likely had higher survival rates than men.  \n",
        "\n",
        "4. Older Adults & Seniors (41+ years) had a survival rate of 36.24%, similar to young adults.  \n",
        "   - Older passengers may have had physical difficulties evacuating quickly.  \n",
        "   - They were likely given less priority compared to children and younger women.  \n",
        "\n",
        "Key Observations  \n",
        "- Children had the highest survival rate, confirming evacuation priorities.  \n",
        "- Young adults and seniors had the lowest survival rates, possibly due to gender biases and physical limitations.  \n",
        "- Middle-aged adults had slightly better survival chances, likely influenced by gender and social roles.  \n",
        "\n"
      ]
    },
    {
      "cell_type": "code",
      "execution_count": null,
      "id": "3d119f61-cbc7-4dec-b618-5ff9bc707da7",
      "metadata": {
        "id": "3d119f61-cbc7-4dec-b618-5ff9bc707da7"
      },
      "outputs": [],
      "source": [
        "import pandas as pd\n",
        "\n",
        "# Function to calculate survival statistics by gender within age groups\n",
        "def survival_by_gender(df, age_group_name):\n",
        "    gender_stats = df.groupby(\"Sex\")[\"Survived\"].agg([\"sum\", \"count\"])\n",
        "    gender_stats[\"Survival Rate (%)\"] = (gender_stats[\"sum\"] / gender_stats[\"count\"]) * 100\n",
        "    gender_stats.reset_index(inplace=True)\n",
        "    gender_stats[\"Age Group\"] = age_group_name\n",
        "    return gender_stats\n",
        "\n",
        "# Calculate survival rates for males and females in each age group\n",
        "children_gender_stats = survival_by_gender(children, \"Children \\n(0-12 years)\")\n",
        "young_adults_gender_stats = survival_by_gender(young_adults, \"Young Adults\\n (13-25 years)\")\n",
        "middle_adults_gender_stats = survival_by_gender(middle_adults, \"Middle-aged\\n Adults\\n (26-40 years)\")\n",
        "older_adults_gender_stats = survival_by_gender(older_adults, \"Older Adults\\n & Seniors\\n (41+ years)\")\n",
        "\n",
        "# Combine all results into a single DataFrame\n",
        "df_survival_by_age_gender = pd.concat([children_gender_stats, young_adults_gender_stats, middle_adults_gender_stats, older_adults_gender_stats])\n",
        "\n",
        "# Display the results\n",
        "print(df_survival_by_age_gender)\n"
      ]
    },
    {
      "cell_type": "code",
      "execution_count": null,
      "id": "e818337b-3707-4535-a55c-bb02229717b1",
      "metadata": {
        "id": "e818337b-3707-4535-a55c-bb02229717b1"
      },
      "outputs": [],
      "source": [
        "import matplotlib.pyplot as plt\n",
        "import seaborn as sns\n",
        "\n",
        "# Set figure size for subplots\n",
        "fig, axes = plt.subplots(1, 2, figsize=(14,5))\n",
        "\n",
        "# 1. Bar Chart: Survival Rate by Gender in Each Age Group\n",
        "sns.barplot(data=df_survival_by_age_gender, x=\"Age Group\", y=\"Survival Rate (%)\", hue=\"Sex\", palette=[\"blue\", \"pink\"], ax=axes[0])\n",
        "axes[0].set_title(\"Survival Rate by Gender in Each Age Group\")\n",
        "axes[0].set_xlabel(\"Age Group\")\n",
        "axes[0].set_ylabel(\"Survival Rate (%)\")\n",
        "axes[0].legend(title=\"Sex\")\n",
        "\n",
        "# 2. Stacked Bar Chart: Survivors vs. Non-Survivors by Gender in Each Age Group\n",
        "df_survival_by_age_gender[\"Non-Survivors\"] = df_survival_by_age_gender[\"count\"] - df_survival_by_age_gender[\"sum\"]\n",
        "df_pivot = df_survival_by_age_gender.pivot(index=\"Age Group\", columns=\"Sex\", values=[\"sum\", \"Non-Survivors\"])\n",
        "\n",
        "df_pivot.plot(kind=\"bar\", stacked=True, color=[\"green\", \"red\", \"yellow\", \"blue\"], ax=axes[1])\n",
        "axes[1].set_title(\"Survivors vs. Non-Survivors by Gender in Each Age Group\")\n",
        "axes[1].set_xlabel(\"Age Group\")\n",
        "axes[1].set_ylabel(\"Count\")\n",
        "axes[1].legend([\"Survived - Male\", \"Non-Survived - Male\", \"Survived - Female\", \"Non-Survived - Female\"])\n",
        "\n",
        "# Adjust layout and show the plots\n",
        "plt.tight_layout()\n",
        "plt.show()\n"
      ]
    },
    {
      "cell_type": "code",
      "execution_count": null,
      "id": "5336e774-0782-4bbd-839d-10957745bbd2",
      "metadata": {
        "id": "5336e774-0782-4bbd-839d-10957745bbd2"
      },
      "outputs": [],
      "source": [
        "import matplotlib.pyplot as plt\n",
        "\n",
        "# Unique age groups\n",
        "age_groups = df_survival_by_age_gender[\"Age Group\"].unique()\n",
        "\n",
        "# Create subplots: 1 row if there are 4 groups, otherwise 2 rows\n",
        "fig, axes = plt.subplots(1, len(age_groups), figsize=(20, 5)) if len(age_groups) <= 4 else plt.subplots(2, (len(age_groups) + 1) // 2, figsize=(15, 10))\n",
        "\n",
        "# Flatten axes in case of a 2-row layout\n",
        "axes = axes.flatten()\n",
        "\n",
        "# Generate pie charts for each age group\n",
        "for i, age_group in enumerate(age_groups):\n",
        "    subset = df_survival_by_age_gender[df_survival_by_age_gender[\"Age Group\"] == age_group]\n",
        "    axes[i].pie(subset[\"sum\"], labels=subset[\"Sex\"], autopct=\"%1.1f%%\", colors=[\"blue\", \"pink\"])\n",
        "    axes[i].set_title(f\"Survivor Proportion\\n{age_group}\")\n",
        "\n",
        "# Adjust layout and display the plots\n",
        "plt.tight_layout()\n",
        "plt.show()\n"
      ]
    },
    {
      "cell_type": "markdown",
      "id": "f814715e-5b41-4b2d-961d-74b92f7624e2",
      "metadata": {
        "id": "f814715e-5b41-4b2d-961d-74b92f7624e2"
      },
      "source": [
        "Interpretation of Survival Rates by Gender and Age Group  \n",
        "\n",
        "1. Children (0-12 years)  \n",
        "   - Females had a survival rate of 59.38%.  \n",
        "   - Males had a survival rate of 56.76%, which is very close to that of females.  \n",
        "   - This suggests that both boys and girls had similar chances of survival, likely because children were prioritized regardless of gender.  \n",
        "\n",
        "2. Young Adults (13-25 years)  \n",
        "   - Females had a survival rate of 75.56%, while males had only 11.27%.  \n",
        "   - This extreme difference indicates that young women were highly prioritized, whereas young men had very low chances of survival.  \n",
        "   - This aligns with the \"Women and children first\" rule, where young men were often left behind.  \n",
        "\n",
        "3. Middle-aged Adults (26-40 years)  \n",
        "   - Females had a survival rate of 80.00%, whereas males had only 22.09%.  \n",
        "   - Similar to young adults, women were much more likely to survive than men.  \n",
        "   - The survival rate for men improved slightly compared to younger males but remained significantly lower than that of women.  \n",
        "\n",
        "4. Older Adults & Seniors (41+ years)  \n",
        "   - Females had a survival rate of 76.60%, while males had only 17.65%.  \n",
        "   - Elderly women had a much higher survival rate than elderly men, reinforcing the idea that gender played a major role in survival chances.  \n",
        "   - Older men likely had difficulties evacuating and were not prioritized as much as younger men or women.  \n",
        "\n",
        "Key Observations  \n",
        "- Children (boys and girls) had similar survival rates, showing that gender was not a major factor in that group.  \n",
        "- Young adult males had the lowest survival rate (11.27%), likely because they were given the lowest priority.  \n",
        "- Females had the highest survival rates across all age groups, reinforcing the strong gender bias in survival priorities.  \n",
        "- Older men had a very low survival rate (17.65%), likely due to physical limitations and lower evacuation priority.  \n"
      ]
    },
    {
      "cell_type": "markdown",
      "id": "2995b14d-45db-4ea2-8d54-891ea693036b",
      "metadata": {
        "id": "2995b14d-45db-4ea2-8d54-891ea693036b"
      },
      "source": [
        "### 4.2.2.4. Analysis of Survival Rate by Fare Paid"
      ]
    },
    {
      "cell_type": "code",
      "execution_count": null,
      "id": "b2c5f272-4a24-4f19-a5a7-44cc99b3cbda",
      "metadata": {
        "id": "b2c5f272-4a24-4f19-a5a7-44cc99b3cbda"
      },
      "outputs": [],
      "source": [
        "import pandas as pd\n",
        "\n",
        "# Group by survived status and compute average fare statistics\n",
        "fare_survival_stats = df.groupby(\"Survived\")[\"Fare\"].agg([\"mean\", \"median\", \"min\", \"max\"])\n",
        "\n",
        "# Create fare bins to analyze fare impact on survival\n",
        "df[\"Fare Category\"] = pd.qcut(df[\"Fare\"], q=4, labels=[\"Low\", \"Medium\", \"High\", \"Very High\"])\n",
        "\n",
        "# Calculate survival rate per fare category\n",
        "fare_category_stats = df.groupby(\"Fare Category\")[\"Survived\"].agg([\"sum\", \"count\"])\n",
        "fare_category_stats[\"Survival Rate (%)\"] = (fare_category_stats[\"sum\"] / fare_category_stats[\"count\"]) * 100\n",
        "\n",
        "# Display the results\n",
        "print(fare_category_stats)\n"
      ]
    },
    {
      "cell_type": "code",
      "execution_count": null,
      "id": "e074663c-ba89-416f-844d-a18c83e64580",
      "metadata": {
        "id": "e074663c-ba89-416f-844d-a18c83e64580"
      },
      "outputs": [],
      "source": [
        "import matplotlib.pyplot as plt\n",
        "import seaborn as sns\n",
        "\n",
        "# Create figure and subplots\n",
        "fig, axes = plt.subplots(1, 2, figsize=(14, 5))\n",
        "\n",
        "# 1 Bar Chart: Survival Rate by Fare Category\n",
        "sns.barplot(x=fare_category_stats.index, y=fare_category_stats[\"Survival Rate (%)\"], palette=\"Blues\", ax=axes[0])\n",
        "axes[0].set_xlabel(\"Fare Category\")\n",
        "axes[0].set_ylabel(\"Survival Rate (%)\")\n",
        "axes[0].set_title(\"Survival Rate by Fare Category\")\n",
        "\n",
        "# 2. Boxplot: Distribution of Fare by Survival Status\n",
        "sns.boxplot(x=df[\"Survived\"], y=df[\"Fare\"], palette=[\"red\", \"green\"], ax=axes[1])\n",
        "axes[1].set_xlabel(\"Survived (0 = No, 1 = Yes)\")\n",
        "axes[1].set_ylabel(\"Fare Paid\")\n",
        "axes[1].set_title(\"Distribution of Fare by Survival Status\")\n",
        "axes[1].set_xticklabels([\"Not Survived\", \"Survived\"])\n",
        "\n",
        "# Adjust layout and display plots\n",
        "plt.tight_layout()\n",
        "plt.show()\n"
      ]
    },
    {
      "cell_type": "markdown",
      "id": "0c44caaa-8c46-41c7-bbbc-3e58fc7d5e40",
      "metadata": {
        "id": "0c44caaa-8c46-41c7-bbbc-3e58fc7d5e40"
      },
      "source": [
        "Interpretation of Survival Rate by Fare Category  \n",
        "\n",
        "1. Low Fare (Cheapest Tickets)  \n",
        "   - This group had 191 passengers, but the survival rate was only 20.42%.  \n",
        "   - Passengers who paid the lowest fares had the lowest survival rate, possibly because they belonged to lower-class sections of the ship, which had fewer evacuation opportunities.  \n",
        "\n",
        "2. Medium Fare  \n",
        "   - This group had 165 passengers with a survival rate of 32.12%, slightly higher than the low-fare group.  \n",
        "   - While survival improved, it was still relatively low, suggesting that passengers in this range still faced challenges in accessing lifeboats.  \n",
        "\n",
        "3. High Fare  \n",
        "   - This category had 179 passengers with a survival rate of 48.60%.  \n",
        "   - The survival rate was significantly better than the lower fare categories, reinforcing the idea that higher-paying passengers had better access to safety.  \n",
        "\n",
        "4. Very High Fare (Most Expensive Tickets)  \n",
        "   - This group had 177 passengers with the highest survival rate of 61.58%.  \n",
        "   - Passengers who paid the highest fares had the greatest chance of survival, likely because they were in first-class accommodations, which had better access to lifeboats and were given priority during evacuation.  \n",
        "\n",
        "Key Observations  \n",
        "- Survival rate increases with ticket price, indicating a strong correlation between socio-economic status and survival.  \n",
        "- Passengers in the lowest fare category had the lowest survival rate (20.42%), suggesting that they faced the most difficulties in evacuation.  \n",
        "- First-class passengers (Very High Fare) had a much higher survival rate (61.58%), likely due to better cabin locations and higher priority for rescue.  \n",
        "- The gap between \"High\" and \"Very High\" fare groups is smaller than between \"Low\" and \"Medium\" groups, indicating that after a certain price threshold, survival chances were more stable.  \n"
      ]
    },
    {
      "cell_type": "markdown",
      "id": "cea5dee5-1f0c-4ae2-a5f4-f374610aad8f",
      "metadata": {
        "id": "cea5dee5-1f0c-4ae2-a5f4-f374610aad8f"
      },
      "source": [
        "### 4.2.2.5. Survival Rate by Family Size"
      ]
    },
    {
      "cell_type": "code",
      "execution_count": null,
      "id": "efa57e00-1166-4c2b-a662-f7608928dcf2",
      "metadata": {
        "id": "efa57e00-1166-4c2b-a662-f7608928dcf2"
      },
      "outputs": [],
      "source": [
        "import pandas as pd\n",
        "\n",
        "# Create a new column for total family members onboard\n",
        "df[\"Family Size\"] = df[\"SibSp\"] + df[\"Parch\"] + 1  # +1 to include the passenger\n",
        "\n",
        "# Group by family size and compute survival statistics\n",
        "family_size_stats = df.groupby(\"Family Size\")[\"Survived\"].agg([\"sum\", \"count\"])\n",
        "family_size_stats[\"Survival Rate (%)\"] = (family_size_stats[\"sum\"] / family_size_stats[\"count\"]) * 100\n",
        "\n",
        "# Display the results\n",
        "print(family_size_stats)\n"
      ]
    },
    {
      "cell_type": "code",
      "execution_count": null,
      "id": "09dad3fc-6393-4884-a6d7-fd9edbc70b57",
      "metadata": {
        "id": "09dad3fc-6393-4884-a6d7-fd9edbc70b57"
      },
      "outputs": [],
      "source": [
        "import matplotlib.pyplot as plt\n",
        "import seaborn as sns\n",
        "\n",
        "# Create figure and subplots\n",
        "fig, axes = plt.subplots(1, 2, figsize=(14, 5))\n",
        "\n",
        "# 1. Bar Chart: Survival Rate by Family Size\n",
        "sns.barplot(x=family_size_stats.index, y=family_size_stats[\"Survival Rate (%)\"], palette=\"Blues\", ax=axes[0])\n",
        "axes[0].set_xlabel(\"Family Size\")\n",
        "axes[0].set_ylabel(\"Survival Rate (%)\")\n",
        "axes[0].set_title(\"Survival Rate by Family Size\")\n",
        "\n",
        "# 2. Scatter Plot: Relationship Between Family Size and Survival\n",
        "sns.scatterplot(x=df[\"Family Size\"], y=df[\"Survived\"], alpha=0.6, color=\"purple\", ax=axes[1])\n",
        "axes[1].set_xlabel(\"Family Size\")\n",
        "axes[1].set_ylabel(\"Survived (0 = No, 1 = Yes)\")\n",
        "axes[1].set_title(\"Survival Distribution by Family Size\")\n",
        "\n",
        "# Adjust layout and display plots\n",
        "plt.tight_layout()\n",
        "plt.show()\n"
      ]
    },
    {
      "cell_type": "markdown",
      "id": "925858ac-21da-450d-ac14-b18ef4e386f9",
      "metadata": {
        "id": "925858ac-21da-450d-ac14-b18ef4e386f9"
      },
      "source": [
        "Interpretation of Survival Rate by Family Size  \n",
        "\n",
        "1. Single Passengers (Family Size = 1)  \n",
        "   - This was the largest group with 402 passengers, but the survival rate was only 31.84%.  \n",
        "   - Solo travelers had one of the lowest survival rates, possibly because they had no close family support during evacuation.  \n",
        "\n",
        "2. Small Families (Family Size = 2-3)  \n",
        "   - Passengers with one or two family members (Family Size = 2 or 3) had higher survival rates of 54.68% and 56.99%, respectively.  \n",
        "   - This suggests that having a small family unit increased survival chances, likely because they could help each other find lifeboats.  \n",
        "\n",
        "3. Medium Families (Family Size = 4)  \n",
        "   - Survival rate was 77.78%, the highest among all groups.  \n",
        "   - These families likely stayed together and were prioritized for evacuation.  \n",
        "\n",
        "4. Large Families (Family Size = 5-6)  \n",
        "   - Survival rates drop sharply to 27.27% (Family Size = 5) and 13.64% (Family Size = 6).  \n",
        "   - Larger families may have had difficulty staying together during the chaos, reducing their survival chances.  \n",
        "\n",
        "5. Very Large Families (Family Size = 7-8)  \n",
        "   - Family Size = 7 had a slightly higher survival rate (33.33%) but was still low.  \n",
        "   - No one survived from families of size 8 (0.00%), indicating extreme difficulty evacuating together.  \n",
        "\n",
        "Key Observations  \n",
        "- Small to medium family sizes (2-4 members) had the best survival chances, likely due to better coordination.  \n",
        "- Solo travelers had a relatively low survival rate, possibly due to lack of assistance.  \n",
        "- Large families (5+) had a much lower survival rate, possibly due to challenges in staying together during evacuation.  \n",
        "- Extremely large families (8 members) had no survivors, suggesting that very large groups were at a major disadvantage.  \n"
      ]
    },
    {
      "cell_type": "markdown",
      "source": [
        "## Upcoming Enhancements: Data Merging and Joining Techniques\n"
      ],
      "metadata": {
        "id": "ErLY3T0eAZ5R"
      },
      "id": "ErLY3T0eAZ5R"
    },
    {
      "cell_type": "markdown",
      "source": [
        "In the next phase of the project, we will incorporate advanced data manipulation techniques such as \"join\", \"merge\", and \"concat\" to further enhance the dataset and improve feature engineering. These operations will allow us to efficiently combine multiple datasets, handle missing information, and create enriched variables for predictive modeling.  \n",
        "\n",
        "Planned operations:  \n",
        "- \"merge()\": Used to combine datasets based on common keys (e.g., passenger ID). This is useful when integrating additional datasets, such as complementary passenger records or survival-related details.  \n",
        "- \"join()\": Will be used for merging dataframes based on their index values, particularly for aligning datasets with similar structures.  \n",
        "- \"concat()\": Helps in stacking datasets either vertically (row-wise) or horizontally (column-wise), useful for appending new features or aggregating different subsets of data.  \n",
        "\n",
        "These data merging operations will be crucial in preparing a more comprehensive dataset for our machine learning models, ensuring that all relevant information is available for analysis.  \n",
        "\n",
        "Stay tuned for the next update where we will integrate these techniques into the project."
      ],
      "metadata": {
        "id": "f1-a4MSMAisX"
      },
      "id": "f1-a4MSMAisX"
    },
    {
      "cell_type": "markdown",
      "id": "bc61cead-065e-42e0-b6cb-5922fa123f2c",
      "metadata": {
        "id": "bc61cead-065e-42e0-b6cb-5922fa123f2c"
      },
      "source": [
        "# II. DATA SCIENCE & MACHINE LEARNING: TITANIC"
      ]
    },
    {
      "cell_type": "markdown",
      "id": "4c84a08d-c7c5-4194-9bd7-ae71c27253fd",
      "metadata": {
        "id": "4c84a08d-c7c5-4194-9bd7-ae71c27253fd"
      },
      "source": [
        "Next Steps: Data Science & Machine Learning  \n",
        "\n",
        "The first phase of the project, focusing on exploratory data analysis and statistical examination, has been successfully completed. We have analyzed the dataset structure, cleaned the data, and conducted univariate and bivariate analyses to understand the factors influencing passenger survival.  \n",
        "\n",
        "Currently, we are working on the second phase of the project: Data Science & Machine Learning, which will focus on building predictive models to determine passengers' survival probabilities based on the available features.  \n",
        "\n",
        "This phase will include:  \n",
        "- Advanced preprocessing and feature engineering to optimize dataset variables  \n",
        "- Selection and training of machine learning models for survival prediction  \n",
        "- Performance evaluation of models to identify the most effective solution  \n",
        "\n",
        "The results of the second phase will be included and shared in the next update."
      ]
    },
    {
      "cell_type": "code",
      "execution_count": null,
      "id": "eadb5eec-b0d6-47e9-bf3c-77167d574639",
      "metadata": {
        "id": "eadb5eec-b0d6-47e9-bf3c-77167d574639"
      },
      "outputs": [],
      "source": []
    }
  ],
  "metadata": {
    "kernelspec": {
      "display_name": "Python 3 (ipykernel)",
      "language": "python",
      "name": "python3"
    },
    "language_info": {
      "codemirror_mode": {
        "name": "ipython",
        "version": 3
      },
      "file_extension": ".py",
      "mimetype": "text/x-python",
      "name": "python",
      "nbconvert_exporter": "python",
      "pygments_lexer": "ipython3",
      "version": "3.11.7"
    },
    "colab": {
      "provenance": []
    }
  },
  "nbformat": 4,
  "nbformat_minor": 5
}